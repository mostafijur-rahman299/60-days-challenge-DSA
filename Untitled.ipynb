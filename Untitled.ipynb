{
 "cells": [
  {
   "cell_type": "code",
   "execution_count": 22,
   "id": "46649cdb",
   "metadata": {},
   "outputs": [
    {
     "data": {
      "text/plain": [
       "[['John',\n",
       "  'johnsmith@mail.com',\n",
       "  'john_newyork@mail.com',\n",
       "  'johnsmith@mail.com',\n",
       "  'john00@mail.com'],\n",
       " ['Mary', 'mary@mail.com'],\n",
       " ['John', 'johnnybravo@mail.com'],\n",
       " ['John', 'johnsmith2@mail.com', 'john00@mail.com']]"
      ]
     },
     "execution_count": 22,
     "metadata": {},
     "output_type": "execute_result"
    }
   ],
   "source": [
    "import copy\n",
    "\n",
    "def accounts_merge(accounts):\n",
    "    \n",
    "    new_accounts = copy.deepcopy(accounts)\n",
    "    \n",
    "    res = []\n",
    "    for index in range(len(new_accounts)-1):\n",
    "        temp_res = [*new_accounts[index]]\n",
    "        for deep_index in range(index+1, len(new_accounts)-1):\n",
    "            if(set(accounts[index][1:]) & set(new_accounts[deep_index][1:])):\n",
    "                temp_res += new_accounts[deep_index][1:]\n",
    "                new_accounts.pop(deep_index)\n",
    "            \n",
    "        res.append(temp_res)\n",
    "        \n",
    "    return res\n",
    "\n",
    "accounts = [\n",
    "    [\"John\",\"johnsmith@mail.com\",\"john_newyork@mail.com\"],\n",
    "    [\"John\",\"johnsmith@mail.com\",\"john00@mail.com\"],\n",
    "    [\"Mary\",\"mary@mail.com\"],[\"John\",\"johnnybravo@mail.com\"],\n",
    "    [\"John\",\"johnsmith2@mail.com\",\"john00@mail.com\"],\n",
    "    \n",
    "]\n",
    "\n",
    "accounts_merge(accounts)"
   ]
  },
  {
   "cell_type": "code",
   "execution_count": null,
   "id": "90cf56d4",
   "metadata": {},
   "outputs": [],
   "source": []
  }
 ],
 "metadata": {
  "kernelspec": {
   "display_name": "Python 3 (ipykernel)",
   "language": "python",
   "name": "python3"
  },
  "language_info": {
   "codemirror_mode": {
    "name": "ipython",
    "version": 3
   },
   "file_extension": ".py",
   "mimetype": "text/x-python",
   "name": "python",
   "nbconvert_exporter": "python",
   "pygments_lexer": "ipython3",
   "version": "3.10.12"
  }
 },
 "nbformat": 4,
 "nbformat_minor": 5
}
