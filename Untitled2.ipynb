{
 "cells": [
  {
   "cell_type": "code",
   "execution_count": 13,
   "id": "d82ff7f6",
   "metadata": {},
   "outputs": [
    {
     "data": {
      "text/plain": [
       "[2]"
      ]
     },
     "execution_count": 13,
     "metadata": {},
     "output_type": "execute_result"
    }
   ],
   "source": [
    "class Node:\n",
    "    def __init__(self, val, left=None, right=None):\n",
    "        self.val = val\n",
    "        self.left = left\n",
    "        self.right = right\n",
    "        \n",
    "        \n",
    "def build_tree_level(arr):\n",
    "    if not arr: return\n",
    "    \n",
    "    item = arr[0]\n",
    "    if item is None: return\n",
    "    \n",
    "    root = Node(item)\n",
    "    queue = [root]\n",
    "    index = 1\n",
    "    \n",
    "    while index < len(arr):\n",
    "        node = queue.pop(0)\n",
    "        \n",
    "        if arr[index] is not None:\n",
    "            node.left = Node(arr[index])\n",
    "            queue.append(node.left)\n",
    "            \n",
    "        index += 1\n",
    "        \n",
    "        if index < len(arr) and arr[index] is not None:\n",
    "            node.right = Node(arr[index])\n",
    "            queue.append(node.right)\n",
    "        \n",
    "        index += 1\n",
    "    return root\n",
    "\n",
    "def level_order_traversal(root):\n",
    "    if not root: return\n",
    "    \n",
    "    queue = [root]\n",
    "    counter = {}\n",
    "    \n",
    "    while queue:\n",
    "        node = queue.pop(0)\n",
    "                \n",
    "        if node.val not in counter:\n",
    "            counter[node.val] = 1\n",
    "        else:\n",
    "            counter[node.val] += 1\n",
    "            \n",
    "        if node.left:\n",
    "            queue.append(node.left)\n",
    "        if node.right:\n",
    "            queue.append(node.right)\n",
    "    \n",
    "    maxx = max(counter.values())\n",
    "    return [x for x in counter if counter[x] == maxx]\n",
    "\n",
    "\n",
    "arr = [1, None, 2, 2]\n",
    "root = build_tree_level(arr)\n",
    "level_order_traversal(root)\n",
    "\n"
   ]
  },
  {
   "cell_type": "code",
   "execution_count": null,
   "id": "e845dd23",
   "metadata": {},
   "outputs": [],
   "source": []
  }
 ],
 "metadata": {
  "kernelspec": {
   "display_name": "Python 3 (ipykernel)",
   "language": "python",
   "name": "python3"
  },
  "language_info": {
   "codemirror_mode": {
    "name": "ipython",
    "version": 3
   },
   "file_extension": ".py",
   "mimetype": "text/x-python",
   "name": "python",
   "nbconvert_exporter": "python",
   "pygments_lexer": "ipython3",
   "version": "3.10.12"
  }
 },
 "nbformat": 4,
 "nbformat_minor": 5
}
