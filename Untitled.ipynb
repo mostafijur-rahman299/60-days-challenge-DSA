{
 "cells": [
  {
   "cell_type": "code",
   "execution_count": 24,
   "id": "23b46555",
   "metadata": {},
   "outputs": [
    {
     "data": {
      "text/plain": [
       "[1, 3, 4]"
      ]
     },
     "execution_count": 24,
     "metadata": {},
     "output_type": "execute_result"
    }
   ],
   "source": [
    "class TreeNode:\n",
    "    def __init__(self, val, left=None, right=None):\n",
    "        self.val = val\n",
    "        self.left = left\n",
    "        self.right = right\n",
    "        \n",
    "        \n",
    "def build_tree(array):\n",
    "    if not array:\n",
    "        return None\n",
    "    \n",
    "    item = array[0]\n",
    "    if item is None:\n",
    "        return None\n",
    "    \n",
    "    queue = []\n",
    "    root = TreeNode(item)\n",
    "    queue.append(root)\n",
    "    index = 1\n",
    "    \n",
    "    while index < len(array):\n",
    "        node = queue.pop(0)\n",
    "        if array[index] is not None:\n",
    "            node.left = TreeNode(array[index])\n",
    "            queue.append(node.left)\n",
    "        index += 1\n",
    "        \n",
    "        if array[index] is not None:\n",
    "            node.right = TreeNode(array[index])\n",
    "            queue.append(node.right)\n",
    "        index += 1\n",
    "        \n",
    "    return root\n",
    "\n",
    "\n",
    "def level_order_travarse(root):\n",
    "    res = []\n",
    "    queue = [root]\n",
    "    \n",
    "    while queue:\n",
    "        rightSide = None\n",
    "        qLen = len(queue)\n",
    "        \n",
    "        for i in range(qLen):\n",
    "            node = queue.pop(0)\n",
    "            if node:\n",
    "                rightSide = node\n",
    "                queue.append(node.left)\n",
    "                queue.append(node.right)\n",
    "        \n",
    "        if rightSide:\n",
    "            res.append(rightSide.val)\n",
    "            \n",
    "    return res\n",
    "\n",
    "array = [1,2,3,None,5,None,4]\n",
    "root = build_tree(array)\n",
    "level_order_travarse(root)\n"
   ]
  },
  {
   "cell_type": "code",
   "execution_count": null,
   "id": "256ebfe3",
   "metadata": {},
   "outputs": [],
   "source": []
  }
 ],
 "metadata": {
  "kernelspec": {
   "display_name": "Python 3 (ipykernel)",
   "language": "python",
   "name": "python3"
  },
  "language_info": {
   "codemirror_mode": {
    "name": "ipython",
    "version": 3
   },
   "file_extension": ".py",
   "mimetype": "text/x-python",
   "name": "python",
   "nbconvert_exporter": "python",
   "pygments_lexer": "ipython3",
   "version": "3.10.12"
  }
 },
 "nbformat": 4,
 "nbformat_minor": 5
}
