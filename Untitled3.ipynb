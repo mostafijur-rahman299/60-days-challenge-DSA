{
 "cells": [
  {
   "cell_type": "code",
   "execution_count": 51,
   "id": "71c96a5a",
   "metadata": {},
   "outputs": [
    {
     "name": "stdout",
     "output_type": "stream",
     "text": [
      "1 2 3 4 5 "
     ]
    },
    {
     "data": {
      "text/plain": [
       "3"
      ]
     },
     "execution_count": 51,
     "metadata": {},
     "output_type": "execute_result"
    }
   ],
   "source": [
    "class Node:\n",
    "    def __init__(self, val, left=None, right=None):\n",
    "        self.val = val\n",
    "        self.left = left\n",
    "        self.right = right\n",
    "        \n",
    "def build_tree_level_order(array):\n",
    "    queue = []\n",
    "    root = Node(array.pop(0))\n",
    "    queue.append(root)\n",
    "    \n",
    "    while queue:\n",
    "        node = queue.pop(0)\n",
    "        if array:\n",
    "            node.left = Node(array.pop(0))\n",
    "            node.right = Node(array.pop(0))\n",
    "            \n",
    "            queue.append(node.left)\n",
    "            queue.append(node.right)\n",
    "    return root\n",
    "\n",
    "def level_order_traverse(root):\n",
    "    queue = [root]\n",
    "    while queue:\n",
    "        node = queue.pop(0)\n",
    "        print(node.val, end=\" \")\n",
    "        if node.left:\n",
    "            queue.append(node.left)\n",
    "        if node.right:\n",
    "            queue.append(node.right)\n",
    "            \n",
    "\n",
    "def height(root):\n",
    "    if not root: return 0\n",
    "    return max(height(root.left), height(root.right)) + 1\n",
    "\n",
    "def diameter(root):\n",
    "    if not root: return 0\n",
    "    \n",
    "    diameter1 = diameter(root.left)\n",
    "    diameter2 = diameter(root.right)\n",
    "    diameter3 = heigth(root.left) + height(root.right) + 1\n",
    "    \n",
    "    return max(diameter3, max(diameter1, diameter2))\n",
    "    \n",
    "            \n",
    "array = [1,2,3,4,5]\n",
    "tree = build_tree_level_order(array)\n",
    "level_order_traverse(tree)\n",
    "\n",
    "hieght(tree)\n"
   ]
  },
  {
   "cell_type": "code",
   "execution_count": null,
   "id": "a97de679",
   "metadata": {},
   "outputs": [],
   "source": []
  }
 ],
 "metadata": {
  "kernelspec": {
   "display_name": "Python 3 (ipykernel)",
   "language": "python",
   "name": "python3"
  },
  "language_info": {
   "codemirror_mode": {
    "name": "ipython",
    "version": 3
   },
   "file_extension": ".py",
   "mimetype": "text/x-python",
   "name": "python",
   "nbconvert_exporter": "python",
   "pygments_lexer": "ipython3",
   "version": "3.10.12"
  }
 },
 "nbformat": 4,
 "nbformat_minor": 5
}
