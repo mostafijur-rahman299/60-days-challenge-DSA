{
 "cells": [
  {
   "cell_type": "code",
   "execution_count": 36,
   "id": "d5c25cfb",
   "metadata": {},
   "outputs": [
    {
     "data": {
      "text/plain": [
       "0"
      ]
     },
     "execution_count": 36,
     "metadata": {},
     "output_type": "execute_result"
    }
   ],
   "source": [
    "class MinStack:\n",
    "\n",
    "    def __init__(self):\n",
    "        self.stack = []\n",
    "        self.global_min = None\n",
    "\n",
    "    def push(self, val: int) -> None:\n",
    "        if not stack or self.global_min is None:\n",
    "            self.global_min = val\n",
    "        elif val < self.global_min:\n",
    "            self.global_min = val\n",
    "        \n",
    "        self.stack.append(Stack(val, self.global_min))\n",
    "\n",
    "    def pop(self) -> None:\n",
    "        if not self.stack: return None\n",
    "        self.stack.pop()\n",
    "        \n",
    "        if self.stack:\n",
    "            self.global_min = self.stack[len(self.stack)-1].local_min\n",
    "        else:\n",
    "            self.global_min = None\n",
    "\n",
    "    def top(self) -> int:\n",
    "        if not self.stack: return None\n",
    "        item = self.stack[len(self.stack)-1]\n",
    "        return item.val\n",
    "\n",
    "    def getMin(self) -> int:\n",
    "        return self.global_min\n",
    "    \n",
    "\n",
    "class Stack:\n",
    "    def __init__(self, val, local_min):\n",
    "        self.val = val\n",
    "        self.local_min = local_min\n",
    "        \n",
    "        \n",
    "stack = MinStack()\n",
    "\n",
    "stack.push(0)\n",
    "stack.push(12)\n",
    "stack.push(1)\n",
    "stack.push(19)\n",
    "\n",
    "stack.pop()\n",
    "# stack.pop()\n",
    "# stack.pop()\n",
    "# stack.pop()\n",
    "\n",
    "# stack.top()\n",
    "\n",
    "stack.getMin()"
   ]
  },
  {
   "cell_type": "code",
   "execution_count": null,
   "id": "ad9384d3",
   "metadata": {},
   "outputs": [],
   "source": []
  }
 ],
 "metadata": {
  "kernelspec": {
   "display_name": "Python 3 (ipykernel)",
   "language": "python",
   "name": "python3"
  },
  "language_info": {
   "codemirror_mode": {
    "name": "ipython",
    "version": 3
   },
   "file_extension": ".py",
   "mimetype": "text/x-python",
   "name": "python",
   "nbconvert_exporter": "python",
   "pygments_lexer": "ipython3",
   "version": "3.10.12"
  }
 },
 "nbformat": 4,
 "nbformat_minor": 5
}
