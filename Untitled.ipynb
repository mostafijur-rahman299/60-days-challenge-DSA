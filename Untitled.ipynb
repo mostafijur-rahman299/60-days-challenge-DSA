{
 "cells": [
  {
   "cell_type": "code",
   "execution_count": 36,
   "id": "b3512e43",
   "metadata": {},
   "outputs": [
    {
     "data": {
      "text/plain": [
       "'bar3'"
      ]
     },
     "execution_count": 36,
     "metadata": {},
     "output_type": "execute_result"
    }
   ],
   "source": [
    "class TimeMap:\n",
    "\n",
    "    def __init__(self):\n",
    "        self.storage = {}\n",
    "\n",
    "    def set(self, key: str, value: str, timestamp: int) -> None:\n",
    "        if key not in self.storage.keys():\n",
    "            self.storage[key] = {\n",
    "                timestamp: value\n",
    "            }\n",
    "            return None\n",
    "        \n",
    "        self.storage[key][timestamp] = value\n",
    "        \n",
    "    def get(self, key: str, timestamp: int) -> str:        \n",
    "        if key not in self.storage.keys():\n",
    "            return \"\"\n",
    "                \n",
    "        if timestamp in self.storage[key].keys():\n",
    "            return self.storage[key][timestamp]\n",
    "        \n",
    "        curr_timestamp = timestamp-1\n",
    "        \n",
    "        keys = list(self.storage[key].keys())\n",
    "        \n",
    "        res = -1\n",
    "        \n",
    "        l, r = 0, len(keys)\n",
    "        while l < r:\n",
    "            mid = (l + r) // 2\n",
    "            if keys[mid] <= timestamp:\n",
    "                res = keys[mid]\n",
    "                l = mid + 1\n",
    "            else:\n",
    "                r = mid - 1\n",
    "                                \n",
    "        if res in keys:\n",
    "            return self.storage[key][res]\n",
    "            \n",
    "        return \"\"\n",
    "        \n",
    "        \n",
    "        \n",
    "timemap = TimeMap()\n",
    "timemap.set(\"foo\", \"bar\", 1)\n",
    "timemap.set(\"foo\", \"bar2\", 30)\n",
    "timemap.set(\"foo\", \"bar3\", 49)\n",
    "\n",
    "timemap.get(\"foo\", 50)\n"
   ]
  },
  {
   "cell_type": "code",
   "execution_count": null,
   "id": "4da565c2",
   "metadata": {},
   "outputs": [],
   "source": []
  }
 ],
 "metadata": {
  "kernelspec": {
   "display_name": "Python 3 (ipykernel)",
   "language": "python",
   "name": "python3"
  },
  "language_info": {
   "codemirror_mode": {
    "name": "ipython",
    "version": 3
   },
   "file_extension": ".py",
   "mimetype": "text/x-python",
   "name": "python",
   "nbconvert_exporter": "python",
   "pygments_lexer": "ipython3",
   "version": "3.10.12"
  }
 },
 "nbformat": 4,
 "nbformat_minor": 5
}
