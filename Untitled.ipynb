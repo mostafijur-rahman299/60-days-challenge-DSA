{
 "cells": [
  {
   "cell_type": "code",
   "execution_count": 17,
   "id": "63a117d2",
   "metadata": {},
   "outputs": [
    {
     "data": {
      "text/plain": [
       "True"
      ]
     },
     "execution_count": 17,
     "metadata": {},
     "output_type": "execute_result"
    }
   ],
   "source": [
    "class Node:\n",
    "    def __init__(self):\n",
    "        self.children = [None]*26\n",
    "        self.ew = False\n",
    "\n",
    "\n",
    "class Trie:\n",
    "    def __init__(self):\n",
    "        self.root = Node()\n",
    "        \n",
    "    def print_nodes(self):\n",
    "        root = self.root\n",
    "        \n",
    "        def print_recursive(root):\n",
    "            if not root:\n",
    "                return\n",
    "            \n",
    "            for child in root.children:\n",
    "                print(child)\n",
    "                print_recursive(child)\n",
    "                \n",
    "        \n",
    "        print_recursive(root)\n",
    "        \n",
    "    def insert(self, word):\n",
    "        root = self.root\n",
    "        for letter in word:\n",
    "            asci = ord(letter) - ord('a')\n",
    "            if not root.children[asci]:\n",
    "                root.children[asci] = Node()\n",
    "            \n",
    "            root = root.children[asci]\n",
    "            \n",
    "        root.ew = True\n",
    "        \n",
    "    def search(self, key):\n",
    "        root = self.root\n",
    "        for word in key:\n",
    "            asci = ord(word) - ord('a')\n",
    "            if not root.children[asci]:\n",
    "                return False\n",
    "            root = root.children[asci]\n",
    "            \n",
    "        if not root.ew: return False\n",
    "        return True\n",
    "            \n",
    "words = [\"the\", \"a\", \"there\", \"their\", \"any\"]\n",
    "\n",
    "trie = Trie()\n",
    "\n",
    "for word in words:\n",
    "    trie.insert(word)\n",
    "    \n",
    "# trie.print_nodes()\n",
    "\n",
    "trie.search(\"any\")\n",
    "\n"
   ]
  },
  {
   "cell_type": "code",
   "execution_count": null,
   "id": "1800b524",
   "metadata": {},
   "outputs": [],
   "source": []
  }
 ],
 "metadata": {
  "kernelspec": {
   "display_name": "Python 3 (ipykernel)",
   "language": "python",
   "name": "python3"
  },
  "language_info": {
   "codemirror_mode": {
    "name": "ipython",
    "version": 3
   },
   "file_extension": ".py",
   "mimetype": "text/x-python",
   "name": "python",
   "nbconvert_exporter": "python",
   "pygments_lexer": "ipython3",
   "version": "3.10.12"
  }
 },
 "nbformat": 4,
 "nbformat_minor": 5
}
