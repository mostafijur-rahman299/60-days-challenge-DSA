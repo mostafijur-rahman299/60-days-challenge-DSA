{
 "cells": [
  {
   "cell_type": "code",
   "execution_count": 12,
   "id": "0284c139",
   "metadata": {},
   "outputs": [
    {
     "name": "stdout",
     "output_type": "stream",
     "text": [
      "[24, 12, 8, 6]\n"
     ]
    }
   ],
   "source": [
    "input_data = [1,2,3,4]\n",
    "output_data = []\n",
    "\n",
    "for index in range(len(input_data)):\n",
    "    if index == 0:\n",
    "        output_data.append(1)\n",
    "        continue\n",
    "        \n",
    "    output_data.append(input_data[index-1]*output_data[len(output_data)-1])\n",
    "    \n",
    "post_fix = 1\n",
    "for index in range(len(output_data)):\n",
    "    reverse_index = len(output_data)-(index+1)\n",
    "    \n",
    "    output_data[reverse_index] = output_data[reverse_index] * post_fix\n",
    "    \n",
    "    post_fix *= input_data[reverse_index]\n",
    "\n",
    "print(output_data)"
   ]
  },
  {
   "cell_type": "code",
   "execution_count": null,
   "id": "7a8798b3",
   "metadata": {},
   "outputs": [],
   "source": []
  }
 ],
 "metadata": {
  "kernelspec": {
   "display_name": "Python 3 (ipykernel)",
   "language": "python",
   "name": "python3"
  },
  "language_info": {
   "codemirror_mode": {
    "name": "ipython",
    "version": 3
   },
   "file_extension": ".py",
   "mimetype": "text/x-python",
   "name": "python",
   "nbconvert_exporter": "python",
   "pygments_lexer": "ipython3",
   "version": "3.10.12"
  }
 },
 "nbformat": 4,
 "nbformat_minor": 5
}
