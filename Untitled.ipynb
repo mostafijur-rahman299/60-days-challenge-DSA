{
 "cells": [
  {
   "cell_type": "code",
   "execution_count": 41,
   "id": "00d00b4a",
   "metadata": {},
   "outputs": [
    {
     "name": "stdout",
     "output_type": "stream",
     "text": [
      "2\n"
     ]
    }
   ],
   "source": [
    "class Node:\n",
    "    def __init__(self, val, left=None, right=None):\n",
    "        self.val = val\n",
    "        self.left = left\n",
    "        self.right = right\n",
    "        \n",
    "    \n",
    "def build_tree(arr):\n",
    "    if not arr: return\n",
    "    \n",
    "    item = arr.pop(0)\n",
    "    \n",
    "    if item == -1: return\n",
    "    \n",
    "    node = Node(item)\n",
    "    \n",
    "    node.left = build_tree(arr)\n",
    "    node.right = build_tree(arr)\n",
    "    return node\n",
    "\n",
    "\n",
    "\n",
    "\n",
    "\n",
    "tree = build_tree([6,2,8,0,4,7,9,-1,-1,3,5])\n",
    "\n",
    "\n"
   ]
  },
  {
   "cell_type": "code",
   "execution_count": null,
   "id": "37942f6c",
   "metadata": {},
   "outputs": [],
   "source": []
  }
 ],
 "metadata": {
  "kernelspec": {
   "display_name": "Python 3 (ipykernel)",
   "language": "python",
   "name": "python3"
  },
  "language_info": {
   "codemirror_mode": {
    "name": "ipython",
    "version": 3
   },
   "file_extension": ".py",
   "mimetype": "text/x-python",
   "name": "python",
   "nbconvert_exporter": "python",
   "pygments_lexer": "ipython3",
   "version": "3.10.12"
  }
 },
 "nbformat": 4,
 "nbformat_minor": 5
}
