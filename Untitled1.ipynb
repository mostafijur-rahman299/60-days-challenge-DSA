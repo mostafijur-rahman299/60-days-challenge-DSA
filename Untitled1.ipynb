{
 "cells": [
  {
   "cell_type": "code",
   "execution_count": 20,
   "id": "7c168b38",
   "metadata": {},
   "outputs": [
    {
     "name": "stdout",
     "output_type": "stream",
     "text": [
      "\n"
     ]
    }
   ],
   "source": [
    "string = \"b\"\n",
    "longest_palindrom = \"\"\n",
    "\n",
    "for index in range(len(string)):\n",
    "    for index2 in range(index+1, len(string)):\n",
    "        \n",
    "        if (string[index:index2+1] == string[index:index2+1][::-1] and \n",
    "            len(string[index:index2+1]) > len(longest_palindrom)):\n",
    "            longest_palindrom = string[index:index2+1]\n",
    "                \n",
    "                \n",
    "print(longest_palindrom)\n"
   ]
  },
  {
   "cell_type": "code",
   "execution_count": null,
   "id": "d1085b3b",
   "metadata": {},
   "outputs": [],
   "source": []
  }
 ],
 "metadata": {
  "kernelspec": {
   "display_name": "Python 3 (ipykernel)",
   "language": "python",
   "name": "python3"
  },
  "language_info": {
   "codemirror_mode": {
    "name": "ipython",
    "version": 3
   },
   "file_extension": ".py",
   "mimetype": "text/x-python",
   "name": "python",
   "nbconvert_exporter": "python",
   "pygments_lexer": "ipython3",
   "version": "3.10.12"
  }
 },
 "nbformat": 4,
 "nbformat_minor": 5
}
