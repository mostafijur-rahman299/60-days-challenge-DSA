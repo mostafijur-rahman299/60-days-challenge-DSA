{
 "cells": [
  {
   "cell_type": "code",
   "execution_count": 40,
   "id": "ef1ac97c",
   "metadata": {},
   "outputs": [
    {
     "data": {
      "text/plain": [
       "'bar3'"
      ]
     },
     "execution_count": 40,
     "metadata": {},
     "output_type": "execute_result"
    }
   ],
   "source": [
    "class TimeMap:\n",
    "    \n",
    "    def __init__(self):\n",
    "        self.store = {}\n",
    "        \n",
    "    def set(self, key, value, timestamp):\n",
    "        if key not in self.store:\n",
    "            self.store[key] = []\n",
    "        self.store[key].append([value, timestamp])\n",
    "        \n",
    "    def get(self, key, timestamp):\n",
    "        res = \"\"\n",
    "        values = self.store.get(key, [])\n",
    "        \n",
    "        # binary search\n",
    "        l, r = 0, len(values) - 1\n",
    "        while l <= r:\n",
    "            m = (l + r) // 2\n",
    "            if values[m][1] <= timestamp:\n",
    "                res = values[m][0]\n",
    "                l = m + 1\n",
    "            else:\n",
    "                r = m - 1\n",
    "        return res\n",
    "        \n",
    "        \n",
    "timemap = TimeMap()\n",
    "timemap.set(\"foo\", \"bar\", 1)\n",
    "timemap.set(\"foo\", \"bar2\", 30)\n",
    "timemap.set(\"foo\", \"bar3\", 49)\n",
    "\n",
    "timemap.get(\"foo\", 50)\n"
   ]
  },
  {
   "cell_type": "code",
   "execution_count": null,
   "id": "99e18c0c",
   "metadata": {},
   "outputs": [],
   "source": []
  }
 ],
 "metadata": {
  "kernelspec": {
   "display_name": "Python 3 (ipykernel)",
   "language": "python",
   "name": "python3"
  },
  "language_info": {
   "codemirror_mode": {
    "name": "ipython",
    "version": 3
   },
   "file_extension": ".py",
   "mimetype": "text/x-python",
   "name": "python",
   "nbconvert_exporter": "python",
   "pygments_lexer": "ipython3",
   "version": "3.10.12"
  }
 },
 "nbformat": 4,
 "nbformat_minor": 5
}
