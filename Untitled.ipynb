{
 "cells": [
  {
   "cell_type": "code",
   "execution_count": 12,
   "id": "4bb72f85",
   "metadata": {},
   "outputs": [
    {
     "data": {
      "text/plain": [
       "<__main__.TreeNode at 0x7f4b72e53760>"
      ]
     },
     "execution_count": 12,
     "metadata": {},
     "output_type": "execute_result"
    }
   ],
   "source": [
    "class TreeNode:\n",
    "    def __init__(self, val, left=None, right=None):\n",
    "        self.val = val\n",
    "        self.left = left\n",
    "        self.right = right\n",
    "        \n",
    "        \n",
    "def build_tree_level_order(array):\n",
    "    if not array: return\n",
    "    \n",
    "    root = TreeNode(array[0])\n",
    "    q = []\n",
    "    q.append(root)\n",
    "    index = 1\n",
    "    \n",
    "    while index < len(array):\n",
    "        node = q.pop(0)\n",
    "        \n",
    "        if array[index] is not None:\n",
    "            node.left = TreeNode(array[index])\n",
    "            q.append(node.left)\n",
    "        index += 1\n",
    "        \n",
    "        if array[index] is not None:\n",
    "            node.right = TreeNode(array[index])\n",
    "            q.append(node.right)\n",
    "        index += 1\n",
    "    return root\n",
    "\n",
    "\n",
    "def traverse_tree(root, p, q):\n",
    "    if not root: return None\n",
    "        \n",
    "    if root == p or root == q: return root\n",
    "        \n",
    "    left = traverse_tree(root.left, p, q)\n",
    "    right = traverse_tree(root.right, p, q)\n",
    "    \n",
    "    if not left: return right\n",
    "    if not right: return left\n",
    "    \n",
    "    return root\n",
    "    \n",
    "        \n",
    "root = [3,5,1,6,2,0,8,None,None,7,4]\n",
    "root = build_tree_level_order(root)\n",
    "traverse_tree(root, 4,5)\n",
    "    "
   ]
  },
  {
   "cell_type": "code",
   "execution_count": null,
   "id": "2f933c9f",
   "metadata": {},
   "outputs": [],
   "source": []
  }
 ],
 "metadata": {
  "kernelspec": {
   "display_name": "Python 3 (ipykernel)",
   "language": "python",
   "name": "python3"
  },
  "language_info": {
   "codemirror_mode": {
    "name": "ipython",
    "version": 3
   },
   "file_extension": ".py",
   "mimetype": "text/x-python",
   "name": "python",
   "nbconvert_exporter": "python",
   "pygments_lexer": "ipython3",
   "version": "3.10.12"
  }
 },
 "nbformat": 4,
 "nbformat_minor": 5
}
