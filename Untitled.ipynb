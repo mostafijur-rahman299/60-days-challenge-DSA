{
 "cells": [
  {
   "cell_type": "code",
   "execution_count": 2,
   "id": "2f2fbc49",
   "metadata": {},
   "outputs": [
    {
     "name": "stdout",
     "output_type": "stream",
     "text": [
      "1\n",
      "2\n",
      "4\n",
      "1\n",
      "3\n",
      "4\n"
     ]
    }
   ],
   "source": [
    "class LinkedNode:\n",
    "    def __init__(self, val=0, next_=None):\n",
    "        self.val = val\n",
    "        self.next = next_\n",
    "        \n",
    "\n",
    "class LinkedList:\n",
    "    def __init__(self):\n",
    "        self.head = None\n",
    "        \n",
    "    def print_item(self):\n",
    "        current = self.head\n",
    "        while current:\n",
    "            print(current.val)\n",
    "            current = current.next\n",
    "        \n",
    "    def insert_item(self, val):\n",
    "        node = LinkedNode(val)\n",
    "        if not self.head:\n",
    "            self.head = node\n",
    "            return\n",
    "        \n",
    "        temp_head = self.head\n",
    "        self.head = node\n",
    "        node.next = temp_head\n",
    "        \n",
    "    def mergeTwoLists(self, list1, list2):\n",
    "        \n",
    "        current1 = list1\n",
    "        \n",
    "        while current1:\n",
    "            current2 = list2\n",
    "            \n",
    "            while current2:\n",
    "                if current1.val < current2.val:\n",
    "                    \n",
    "                elif current1.val >= current2.val and current1.next and current1.next.val < current2.val:\n",
    "                    pass\n",
    "                elif not current1.next:\n",
    "                    pass\n",
    "                else:\n",
    "                    break\n",
    "        \n",
    "        \n",
    "        \n",
    "list1 = [1,2,4]\n",
    "list2 = [1,3,4]\n",
    "\n",
    "link_list_1 = LinkedList()\n",
    "link_list_1.insert_item(4)\n",
    "link_list_1.insert_item(2)\n",
    "link_list_1.insert_item(1)\n",
    "\n",
    "link_list_1.print_item()\n",
    "\n",
    "link_list2 = LinkedList()\n",
    "link_list2.insert_item(4)\n",
    "link_list2.insert_item(3)\n",
    "link_list2.insert_item(1)\n",
    "\n",
    "link_list2.print_item()"
   ]
  },
  {
   "cell_type": "code",
   "execution_count": null,
   "id": "355c5df4",
   "metadata": {},
   "outputs": [],
   "source": []
  }
 ],
 "metadata": {
  "kernelspec": {
   "display_name": "Python 3 (ipykernel)",
   "language": "python",
   "name": "python3"
  },
  "language_info": {
   "codemirror_mode": {
    "name": "ipython",
    "version": 3
   },
   "file_extension": ".py",
   "mimetype": "text/x-python",
   "name": "python",
   "nbconvert_exporter": "python",
   "pygments_lexer": "ipython3",
   "version": "3.10.12"
  }
 },
 "nbformat": 4,
 "nbformat_minor": 5
}
