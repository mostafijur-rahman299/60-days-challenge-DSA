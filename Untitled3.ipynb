{
 "cells": [
  {
   "cell_type": "code",
   "execution_count": 21,
   "id": "e4099bdf",
   "metadata": {},
   "outputs": [
    {
     "name": "stdout",
     "output_type": "stream",
     "text": [
      "[7]\n"
     ]
    }
   ],
   "source": [
    "tokens = [\"4\",\"13\",\"5\",\"/\",\"+\"]\n",
    "\n",
    "stack = []\n",
    "\n",
    "for item in tokens:\n",
    "    if item in [\"+\", \"-\", \"*\", \"/\"]:\n",
    "        st2 = stack.pop()\n",
    "        st1 = stack.pop()\n",
    "        \n",
    "        if item == \"+\":\n",
    "            st3 = int(st1) + int(st2)\n",
    "        if item == \"*\":\n",
    "            st3 = int(st1) * int(st2)\n",
    "        if item == \"-\":\n",
    "            st3 = int(st1) - int(st2)\n",
    "        if item == \"/\":\n",
    "            st3 = int(st1) / int(st2))\n",
    "            \n",
    "        stack.append(st3)\n",
    "        \n",
    "    else:\n",
    "        stack.append(item)\n",
    "\n",
    "print(stack)"
   ]
  },
  {
   "cell_type": "code",
   "execution_count": null,
   "id": "914829d0",
   "metadata": {},
   "outputs": [],
   "source": []
  }
 ],
 "metadata": {
  "kernelspec": {
   "display_name": "Python 3 (ipykernel)",
   "language": "python",
   "name": "python3"
  },
  "language_info": {
   "codemirror_mode": {
    "name": "ipython",
    "version": 3
   },
   "file_extension": ".py",
   "mimetype": "text/x-python",
   "name": "python",
   "nbconvert_exporter": "python",
   "pygments_lexer": "ipython3",
   "version": "3.10.12"
  }
 },
 "nbformat": 4,
 "nbformat_minor": 5
}
