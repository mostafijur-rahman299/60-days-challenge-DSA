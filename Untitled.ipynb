{
 "cells": [
  {
   "cell_type": "code",
   "execution_count": 10,
   "id": "76b44854",
   "metadata": {},
   "outputs": [
    {
     "name": "stdout",
     "output_type": "stream",
     "text": [
      "[[3, 3], [-2, 4]]\n"
     ]
    }
   ],
   "source": [
    "import math\n",
    "\n",
    "points = [[3,3],[5,-1],[-2,4]]\n",
    "\n",
    "k = 2\n",
    "\n",
    "euclidean_point = []\n",
    "\n",
    "for point in points:\n",
    "    euclidean_point.append(math.sqrt(abs(point[0] ** 2 + point[1] ** 2)))\n",
    "    \n",
    "euclidean_points = sorted(euclidean_point)\n",
    "\n",
    "\n",
    "result = []\n",
    "\n",
    "for item in euclidean_points[:k]:\n",
    "    value_index = euclidean_point.index(item)\n",
    "    result.append(points[value_index])\n",
    "    \n",
    "print(result)"
   ]
  },
  {
   "cell_type": "code",
   "execution_count": null,
   "id": "d6cbdb83",
   "metadata": {},
   "outputs": [],
   "source": []
  }
 ],
 "metadata": {
  "kernelspec": {
   "display_name": "Python 3 (ipykernel)",
   "language": "python",
   "name": "python3"
  },
  "language_info": {
   "codemirror_mode": {
    "name": "ipython",
    "version": 3
   },
   "file_extension": ".py",
   "mimetype": "text/x-python",
   "name": "python",
   "nbconvert_exporter": "python",
   "pygments_lexer": "ipython3",
   "version": "3.10.12"
  }
 },
 "nbformat": 4,
 "nbformat_minor": 5
}
