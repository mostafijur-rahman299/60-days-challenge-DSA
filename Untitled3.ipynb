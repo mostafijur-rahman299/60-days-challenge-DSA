{
 "cells": [
  {
   "cell_type": "code",
   "execution_count": 5,
   "id": "d161ca19",
   "metadata": {},
   "outputs": [
    {
     "name": "stdout",
     "output_type": "stream",
     "text": [
      "[1, 1, 1, 1, 1, 1, 1]\n",
      "[28, 21, 15, 10, 6, 3, 1]\n"
     ]
    }
   ],
   "source": [
    "res = []\n",
    "m, n = 3, 7\n",
    "\n",
    "row = [1] * n\n",
    "\n",
    "print(row)\n",
    "\n",
    "for i in range(m-1):\n",
    "    newRow = [1] * n\n",
    "    for j in range(n-2, -1, -1):\n",
    "        newRow[j] = newRow[j+1] + row[j]\n",
    "    row = newRow\n"
   ]
  },
  {
   "cell_type": "code",
   "execution_count": null,
   "id": "ea6438b3",
   "metadata": {},
   "outputs": [],
   "source": []
  }
 ],
 "metadata": {
  "kernelspec": {
   "display_name": "Python 3 (ipykernel)",
   "language": "python",
   "name": "python3"
  },
  "language_info": {
   "codemirror_mode": {
    "name": "ipython",
    "version": 3
   },
   "file_extension": ".py",
   "mimetype": "text/x-python",
   "name": "python",
   "nbconvert_exporter": "python",
   "pygments_lexer": "ipython3",
   "version": "3.10.12"
  }
 },
 "nbformat": 4,
 "nbformat_minor": 5
}
