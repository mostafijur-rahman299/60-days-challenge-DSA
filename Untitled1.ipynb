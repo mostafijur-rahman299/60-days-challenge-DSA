{
 "cells": [
  {
   "cell_type": "code",
   "execution_count": 26,
   "id": "a88b971d",
   "metadata": {},
   "outputs": [
    {
     "name": "stdout",
     "output_type": "stream",
     "text": [
      "[[0, 4]]\n"
     ]
    }
   ],
   "source": [
    "intervals = [[1,4],[0,0]]\n",
    "non_intervals = []\n",
    "\n",
    "non_intervals.append(intervals[0])\n",
    "\n",
    "for index in range(1, len(intervals)):\n",
    "    non_interval_last_item = non_intervals[len(non_intervals)-1]\n",
    "    if non_interval_last_item[1] >= intervals[index][0]:\n",
    "        if non_interval_last_item[1] < intervals[index][1]:\n",
    "            non_intervals[len(non_intervals)-1][1] = intervals[index][1]\n",
    "        \n",
    "        if non_interval_last_item[0] > intervals[index][0]:\n",
    "            non_intervals[len(non_intervals)-1][0] = intervals[index][0]\n",
    "    else:\n",
    "        non_intervals.append(intervals[index])\n",
    "\n",
    "print(non_intervals)"
   ]
  },
  {
   "cell_type": "code",
   "execution_count": null,
   "id": "7b6b7903",
   "metadata": {},
   "outputs": [],
   "source": []
  }
 ],
 "metadata": {
  "kernelspec": {
   "display_name": "Python 3 (ipykernel)",
   "language": "python",
   "name": "python3"
  },
  "language_info": {
   "codemirror_mode": {
    "name": "ipython",
    "version": 3
   },
   "file_extension": ".py",
   "mimetype": "text/x-python",
   "name": "python",
   "nbconvert_exporter": "python",
   "pygments_lexer": "ipython3",
   "version": "3.10.12"
  }
 },
 "nbformat": 4,
 "nbformat_minor": 5
}
