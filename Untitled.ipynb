{
 "cells": [
  {
   "cell_type": "code",
   "execution_count": 12,
   "id": "d84d2bed",
   "metadata": {
    "scrolled": true
   },
   "outputs": [
    {
     "name": "stdout",
     "output_type": "stream",
     "text": [
      "[4, 2, 7, 1, 3, 6, 9]\n",
      "[4, 7, 2, 9, 6, 3, 1]\n"
     ]
    }
   ],
   "source": [
    "# build preorder tree by array\n",
    "\n",
    "class TreeNode:\n",
    "    def __init__(self, val, left=None, right=None):\n",
    "        self.val = val\n",
    "        self.left = left\n",
    "        self.right = right\n",
    "        \n",
    "\n",
    "def build_preorder_tree(arr):\n",
    "    if not arr:\n",
    "        return\n",
    "    \n",
    "    item = arr.pop(0)\n",
    "    if item == -1:\n",
    "        return None\n",
    "    \n",
    "    node = TreeNode(item)\n",
    "    node.left = build_preorder_tree(arr)\n",
    "    node.right = build_preorder_tree(arr)\n",
    "    \n",
    "    return node\n",
    "\n",
    "\n",
    "def traversal(root):\n",
    "    queue = []\n",
    "    data = []\n",
    "    \n",
    "    queue.append(root)\n",
    "    \n",
    "    while queue:\n",
    "        node = queue.pop(0)\n",
    "        if node.left:\n",
    "            queue.append(node.left)\n",
    "        if node.right:\n",
    "            queue.append(node.right)\n",
    "            \n",
    "        data.append(node.val)\n",
    "        \n",
    "    print(data)\n",
    "    \n",
    "\n",
    "def invertTree(node):\n",
    "    if not node:\n",
    "        return\n",
    "    \n",
    "    root.left, root.right = root.\n",
    "    \n",
    "    invertTree(node.left)\n",
    "    invertTree(node.right)\n",
    "    return node\n",
    "\n",
    "\n",
    "arr = [4, 2, 1, -1, -1, 3, -1, -1, 7, 6, -1, -1, 9, -1, -1]\n",
    "tree = build_preorder_tree(arr)\n",
    "\n",
    "traversal(tree)\n",
    "\n",
    "invert_tree = invertTree(tree)\n",
    "\n",
    "traversal(invert_tree)\n",
    "\n",
    "\n"
   ]
  },
  {
   "cell_type": "raw",
   "id": "c9e89e7c",
   "metadata": {},
   "source": []
  }
 ],
 "metadata": {
  "kernelspec": {
   "display_name": "Python 3 (ipykernel)",
   "language": "python",
   "name": "python3"
  },
  "language_info": {
   "codemirror_mode": {
    "name": "ipython",
    "version": 3
   },
   "file_extension": ".py",
   "mimetype": "text/x-python",
   "name": "python",
   "nbconvert_exporter": "python",
   "pygments_lexer": "ipython3",
   "version": "3.10.12"
  }
 },
 "nbformat": 4,
 "nbformat_minor": 5
}
