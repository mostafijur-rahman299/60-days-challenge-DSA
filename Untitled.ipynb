{
 "cells": [
  {
   "cell_type": "code",
   "execution_count": 13,
   "id": "3f6a9fe3",
   "metadata": {},
   "outputs": [
    {
     "name": "stdout",
     "output_type": "stream",
     "text": [
      "range(0, 4) 0\n",
      "range(0, 4) 0\n",
      "range(0, 4) 1\n",
      "range(0, 4) -1\n",
      "range(0, 4) 0\n",
      "range(0, 4) 0\n",
      "range(0, 4) 1\n",
      "range(0, 4) -1\n",
      "range(0, 4) 1\n",
      "range(0, 4) 1\n",
      "range(0, 4) 2\n",
      "range(0, 4) 0\n",
      "range(0, 4) 1\n",
      "range(0, 4) 1\n",
      "range(0, 4) 2\n",
      "range(0, 4) 0\n",
      "range(0, 4) 2\n",
      "range(0, 4) 2\n",
      "range(0, 4) 3\n",
      "range(0, 4) 1\n",
      "range(0, 4) 3\n",
      "range(0, 4) 3\n",
      "range(0, 4) 4\n",
      "range(0, 4) 2\n",
      "range(0, 4) 3\n",
      "range(0, 4) 3\n",
      "range(0, 4) 4\n",
      "range(0, 4) 2\n",
      "3\n"
     ]
    }
   ],
   "source": [
    "import collections\n",
    "\n",
    "grid = [\n",
    "  [\"1\",\"1\",\"0\",\"0\",\"0\"],\n",
    "  [\"1\",\"1\",\"0\",\"0\",\"0\"],\n",
    "  [\"0\",\"0\",\"1\",\"0\",\"0\"],\n",
    "  [\"0\",\"0\",\"0\",\"1\",\"1\"]\n",
    "]\n",
    "\n",
    "\n",
    "            \n",
    "\n",
    "print(islands)"
   ]
  },
  {
   "cell_type": "code",
   "execution_count": null,
   "id": "e7eab020",
   "metadata": {},
   "outputs": [],
   "source": []
  }
 ],
 "metadata": {
  "kernelspec": {
   "display_name": "Python 3 (ipykernel)",
   "language": "python",
   "name": "python3"
  },
  "language_info": {
   "codemirror_mode": {
    "name": "ipython",
    "version": 3
   },
   "file_extension": ".py",
   "mimetype": "text/x-python",
   "name": "python",
   "nbconvert_exporter": "python",
   "pygments_lexer": "ipython3",
   "version": "3.10.12"
  }
 },
 "nbformat": 4,
 "nbformat_minor": 5
}
