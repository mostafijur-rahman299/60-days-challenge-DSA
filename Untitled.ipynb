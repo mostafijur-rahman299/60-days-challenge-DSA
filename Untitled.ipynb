{
 "cells": [
  {
   "cell_type": "code",
   "execution_count": 63,
   "id": "ac070f95",
   "metadata": {},
   "outputs": [],
   "source": [
    "from typing import List\n",
    "\n",
    "def floodFill(self, image: List[List[int]], sr: int, sc: int, newColor: int) -> List[List[int]]:\n",
    "    ROWS, COLS = len(image), len(image[0])\n",
    "    directions = [(0, 1), (1, 0), (0, -1), (-1, 0)]\n",
    "    oldColor = image[sr][sc]\n",
    "\n",
    "    def dfs(row, col):\n",
    "        if (row < 0 or row >= ROWS or \n",
    "            col < 0 or col >= COLS or \n",
    "            image[row][col] != oldColor or \n",
    "            image[row][col] == newColor):\n",
    "            return\n",
    "\n",
    "        image[row][col] = newColor\n",
    "\n",
    "        for rowOffset, colOffset in directions:\n",
    "            newRow = row + rowOffset\n",
    "            newCol = col + colOffset\n",
    "            dfs(newRow, newCol)\n",
    "\n",
    "    dfs(sr, sc)\n",
    "    return image"
   ]
  },
  {
   "cell_type": "code",
   "execution_count": null,
   "id": "2508c54d",
   "metadata": {},
   "outputs": [],
   "source": [
    "from typing import List\n",
    "\n",
    "class Solution:\n",
    "    def floodFill(self, image: List[List[int]], sr: int, sc: int, color: int) -> List[List[int]]:\n",
    "        start_color = image[sr][sc]\n",
    "        \n",
    "        def flood_fill(i, j):\n",
    "            if i < 0 or j < 0 or i >= len(image) or j >= len(image[0]): return\n",
    "            \n",
    "            if image[i][j] == color: return\n",
    "            if image[i][j] != start_color: return\n",
    "            \n",
    "            image[i][j] = 3\n",
    "    \n",
    "            flood_fill(i-1, j)\n",
    "            flood_fill(i, j-1)\n",
    "            flood_fill(i+1, j)\n",
    "            flood_fill(i, j+1)\n",
    "            \n",
    "        flood_fill(sr, sc)\n",
    "        return image"
   ]
  }
 ],
 "metadata": {
  "kernelspec": {
   "display_name": "Python 3 (ipykernel)",
   "language": "python",
   "name": "python3"
  },
  "language_info": {
   "codemirror_mode": {
    "name": "ipython",
    "version": 3
   },
   "file_extension": ".py",
   "mimetype": "text/x-python",
   "name": "python",
   "nbconvert_exporter": "python",
   "pygments_lexer": "ipython3",
   "version": "3.10.12"
  }
 },
 "nbformat": 4,
 "nbformat_minor": 5
}
