{
 "cells": [
  {
   "cell_type": "code",
   "execution_count": 8,
   "id": "0c2e29a6",
   "metadata": {},
   "outputs": [
    {
     "name": "stdout",
     "output_type": "stream",
     "text": [
      "6 2 8 0 4 7 9 3 5 "
     ]
    }
   ],
   "source": [
    "from collections import deque\n",
    "\n",
    "class TreeNode:\n",
    "    def __init__(self, val, left=None, right=None):\n",
    "        self.val = val\n",
    "        self.left = left\n",
    "        self.right = right\n",
    "        \n",
    "        \n",
    "def build_tree_with_level_order(array):\n",
    "    if not array: return None\n",
    "    \n",
    "    item = array[0]\n",
    "    if item is None: return None\n",
    "    \n",
    "    queue = deque([])\n",
    "    root = TreeNode(item)\n",
    "    queue.append(root)\n",
    "    \n",
    "    index = 1\n",
    "    \n",
    "    while index < len(array):\n",
    "        node = queue.popleft()\n",
    "        \n",
    "        if array[index] is not None:\n",
    "            node.left = TreeNode(array[index])\n",
    "            queue.append(node.left)\n",
    "        \n",
    "        index += 1\n",
    "        \n",
    "        if array[index] is not None:\n",
    "            node.right = TreeNode(array[index])\n",
    "            queue.append(node.right)\n",
    "            \n",
    "        index += 1\n",
    "        \n",
    "    return root\n",
    "\n",
    "def traverse(root):\n",
    "    if not root: return\n",
    "    \n",
    "    queue = [root]\n",
    "    \n",
    "    while queue:\n",
    "        node = queue.pop(0)\n",
    "        print(node.val, end=\" \")\n",
    "        if node.left:\n",
    "            queue.append(node.left)\n",
    "        if node.right:\n",
    "            queue.append(node.right)\n",
    "\n",
    "\n",
    "def check_balanced(root):\n",
    "    return abs(height) >= 0\n",
    "\n",
    "            \n",
    "def height(root):\n",
    "    if not root: return 0\n",
    "    \n",
    "    left, right = height(root.left), height(root.right)\n",
    "    if left < 0 or right < 0 or abs(left-right) > 1: return -1\n",
    "    return max(left, right) + 1\n",
    "    \n",
    "            \n",
    "\n",
    "arr = [6,2,8,0,4,7,9,None,None,3,5]\n",
    "root = build_tree_with_level_order(arr)\n",
    "traverse(root)\n",
    "\n",
    "        "
   ]
  },
  {
   "cell_type": "code",
   "execution_count": null,
   "id": "d6857888",
   "metadata": {},
   "outputs": [],
   "source": []
  }
 ],
 "metadata": {
  "kernelspec": {
   "display_name": "Python 3 (ipykernel)",
   "language": "python",
   "name": "python3"
  },
  "language_info": {
   "codemirror_mode": {
    "name": "ipython",
    "version": 3
   },
   "file_extension": ".py",
   "mimetype": "text/x-python",
   "name": "python",
   "nbconvert_exporter": "python",
   "pygments_lexer": "ipython3",
   "version": "3.10.12"
  }
 },
 "nbformat": 4,
 "nbformat_minor": 5
}
