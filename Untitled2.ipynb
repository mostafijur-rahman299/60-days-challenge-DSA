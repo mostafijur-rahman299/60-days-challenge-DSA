{
 "cells": [
  {
   "cell_type": "code",
   "execution_count": 18,
   "id": "deb03aa8",
   "metadata": {},
   "outputs": [
    {
     "name": "stdout",
     "output_type": "stream",
     "text": [
      "[[2, 2, 2], [2, 2, 0], [0, 2, 2]]\n"
     ]
    }
   ],
   "source": [
    "import collections\n",
    "\n",
    "grid = [\n",
    "    [2,1,1],\n",
    "    [1,1,0],\n",
    "    [0,1,1]\n",
    "]\n",
    "\n",
    "time, fresh = 0, 0\n",
    "ROWS, COLS = len(grid), len(grid[0])\n",
    "q = collections.deque()\n",
    "\n",
    "for row in range(ROWS):\n",
    "    for col in range(COLS):\n",
    "        if grid[row][col] == 1:\n",
    "            fresh += 1\n",
    "        if grid[row][col] == 2:\n",
    "            q.append((row, col))\n",
    "\n",
    "directions = [(0, 1), (0, -1), (-1, 0), (1, 0)]\n",
    "\n",
    "while q and fresh > 0:\n",
    "    for q_index in range(len(q)):\n",
    "        row, col = q.popleft()\n",
    "        for dr, dc in directions:\n",
    "            r, c = row + dr, col + dc\n",
    "            if (r < 0 or r == len(grid) or\n",
    "               c < 0 or c == len(grid[0]) or\n",
    "               grid[r][c] != 1):\n",
    "                continue\n",
    "                \n",
    "            grid[r][c] = 2\n",
    "            q.append((r, c))\n",
    "            fresh -= 1\n",
    "    time += 1\n",
    "\n",
    "print(grid)\n",
    "\n",
    "# print(time, fresh)"
   ]
  },
  {
   "cell_type": "code",
   "execution_count": null,
   "id": "392dada3",
   "metadata": {},
   "outputs": [],
   "source": []
  }
 ],
 "metadata": {
  "kernelspec": {
   "display_name": "Python 3 (ipykernel)",
   "language": "python",
   "name": "python3"
  },
  "language_info": {
   "codemirror_mode": {
    "name": "ipython",
    "version": 3
   },
   "file_extension": ".py",
   "mimetype": "text/x-python",
   "name": "python",
   "nbconvert_exporter": "python",
   "pygments_lexer": "ipython3",
   "version": "3.10.12"
  }
 },
 "nbformat": 4,
 "nbformat_minor": 5
}
