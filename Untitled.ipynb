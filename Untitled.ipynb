{
 "cells": [
  {
   "cell_type": "code",
   "execution_count": 25,
   "id": "9166768d",
   "metadata": {},
   "outputs": [
    {
     "name": "stdout",
     "output_type": "stream",
     "text": [
      "['Push', 'Push']\n"
     ]
    }
   ],
   "source": [
    "target = [1,2]\n",
    "n = 4\n",
    "\n",
    "stack = []\n",
    "operations = []\n",
    "\n",
    "for i in range(1, n+1):\n",
    "    stack.append(i)\n",
    "    operations.append(\"Push\")\n",
    "    \n",
    "    if target == stack:\n",
    "        break\n",
    "    \n",
    "    if i != target[len(stack)-1]:\n",
    "        stack.pop()\n",
    "        operations.append(\"Pop\")\n",
    "    \n",
    "\n",
    "print(operations)\n",
    "    "
   ]
  },
  {
   "cell_type": "code",
   "execution_count": null,
   "id": "403ab22f",
   "metadata": {},
   "outputs": [],
   "source": []
  }
 ],
 "metadata": {
  "kernelspec": {
   "display_name": "Python 3 (ipykernel)",
   "language": "python",
   "name": "python3"
  },
  "language_info": {
   "codemirror_mode": {
    "name": "ipython",
    "version": 3
   },
   "file_extension": ".py",
   "mimetype": "text/x-python",
   "name": "python",
   "nbconvert_exporter": "python",
   "pygments_lexer": "ipython3",
   "version": "3.10.12"
  }
 },
 "nbformat": 4,
 "nbformat_minor": 5
}
