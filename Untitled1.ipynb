{
 "cells": [
  {
   "cell_type": "code",
   "execution_count": 16,
   "id": "9916da3d",
   "metadata": {},
   "outputs": [
    {
     "data": {
      "text/plain": [
       "False"
      ]
     },
     "execution_count": 16,
     "metadata": {},
     "output_type": "execute_result"
    }
   ],
   "source": [
    "class Solution:\n",
    "    def isAnagram(self, s: str, t: str) -> bool:\n",
    "        count = [0] * 26\n",
    "        \n",
    "        for char in s:\n",
    "            asci = ord(char) - ord('a')\n",
    "            count[asci] += 1\n",
    "                    \n",
    "        for char in t:\n",
    "            asci = ord(char) - ord('a')\n",
    "            count[asci] -= 1\n",
    "            \n",
    "        for val in count:\n",
    "            if val != 0:\n",
    "                return False\n",
    "            \n",
    "        return True\n",
    "            \n",
    "    \n",
    "    \n",
    "s = Solution()\n",
    "s.isAnagram(\"anagram\", \"nagaaram\")"
   ]
  },
  {
   "cell_type": "code",
   "execution_count": null,
   "id": "301a7551",
   "metadata": {},
   "outputs": [],
   "source": []
  }
 ],
 "metadata": {
  "kernelspec": {
   "display_name": "Python 3 (ipykernel)",
   "language": "python",
   "name": "python3"
  },
  "language_info": {
   "codemirror_mode": {
    "name": "ipython",
    "version": 3
   },
   "file_extension": ".py",
   "mimetype": "text/x-python",
   "name": "python",
   "nbconvert_exporter": "python",
   "pygments_lexer": "ipython3",
   "version": "3.10.12"
  }
 },
 "nbformat": 4,
 "nbformat_minor": 5
}
