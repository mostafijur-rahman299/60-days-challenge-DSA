{
 "cells": [
  {
   "cell_type": "code",
   "execution_count": 5,
   "id": "85e45bc7",
   "metadata": {},
   "outputs": [
    {
     "name": "stdout",
     "output_type": "stream",
     "text": [
      "6 2 8 0 4 7 9 3 5 "
     ]
    }
   ],
   "source": [
    "class TreeNode:\n",
    "    def __init__(self, val, left=None, right=None):\n",
    "        self.val = val\n",
    "        self.left = left\n",
    "        self.right = right\n",
    "        \n",
    "        \n",
    "def build_tree_level_order(arr):\n",
    "    if not arr: return\n",
    "    \n",
    "    item = arr[0]\n",
    "    if item is None: return None\n",
    "    \n",
    "    root = TreeNode(item)\n",
    "    queue = [root]\n",
    "    index = 1\n",
    "    \n",
    "    while index < len(arr):\n",
    "        node = queue.pop(0)\n",
    "        \n",
    "        if arr[index] is not None:\n",
    "            node.left = TreeNode(arr[index])\n",
    "            queue.append(node.left)\n",
    "            \n",
    "        index += 1\n",
    "        \n",
    "        if arr[index] is not None:\n",
    "            node.right = TreeNode(arr[index])\n",
    "            queue.append(node.right)\n",
    "            \n",
    "        index += 1\n",
    "        \n",
    "    return root\n",
    "        \n",
    "        \n",
    "def traverse_tree_level_order(root):\n",
    "    if not root: return\n",
    "    \n",
    "    queue = [root]\n",
    "    while queue:\n",
    "        node = queue.pop(0)\n",
    "        print(node.val, end=\" \")\n",
    "        if node.left:\n",
    "            queue.append(node.left)\n",
    "        if node.right:\n",
    "            queue.append(node.right)\n",
    "            \n",
    "    return None\n",
    "        \n",
    "    \n",
    "def lowest_common_anchestor(root):\n",
    "    if not root: return\n",
    "    \n",
    "    if root.left and root.left.val > root.val and root.right.val > root.val:\n",
    "        lowest_common_anchestor(root.right)\n",
    "    elif root.right and root.left.val < root.val and root.right.val < root.val:\n",
    "        lowest_common_anchestor(root.left)\n",
    "    return root.val\n",
    "    \n",
    "    \n",
    "array = [6,2,8,0,4,7,9,None,None,3,5]\n",
    "root = build_tree_level_order(array)\n",
    "traverse_tree_level_order(root)\n",
    "\n",
    "\n",
    "\n"
   ]
  },
  {
   "cell_type": "code",
   "execution_count": null,
   "id": "380e6e0f",
   "metadata": {},
   "outputs": [],
   "source": []
  }
 ],
 "metadata": {
  "kernelspec": {
   "display_name": "Python 3 (ipykernel)",
   "language": "python",
   "name": "python3"
  },
  "language_info": {
   "codemirror_mode": {
    "name": "ipython",
    "version": 3
   },
   "file_extension": ".py",
   "mimetype": "text/x-python",
   "name": "python",
   "nbconvert_exporter": "python",
   "pygments_lexer": "ipython3",
   "version": "3.10.12"
  }
 },
 "nbformat": 4,
 "nbformat_minor": 5
}
