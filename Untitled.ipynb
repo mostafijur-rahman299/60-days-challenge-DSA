{
 "cells": [
  {
   "cell_type": "code",
   "execution_count": null,
   "id": "bbabc0fa",
   "metadata": {},
   "outputs": [],
   "source": [
    "res = []\n",
    "\n",
    "def dfs(i, cur, total):\n",
    "    if totoal == target:\n",
    "        res.append(cur.copy())\n",
    "        return\n",
    "    if i >= len(candidates) or total > target:\n",
    "        return\n",
    "    \n",
    "    cur.append(candidates[i])\n",
    "    dfs(i, cur, total+candidates[i])\n",
    "    cur.pop()\n",
    "    dfs(i+1, cur, total)\n",
    "    \n",
    "dfs(0, [], 0)"
   ]
  }
 ],
 "metadata": {
  "kernelspec": {
   "display_name": "Python 3 (ipykernel)",
   "language": "python",
   "name": "python3"
  },
  "language_info": {
   "codemirror_mode": {
    "name": "ipython",
    "version": 3
   },
   "file_extension": ".py",
   "mimetype": "text/x-python",
   "name": "python",
   "nbconvert_exporter": "python",
   "pygments_lexer": "ipython3",
   "version": "3.10.12"
  }
 },
 "nbformat": 4,
 "nbformat_minor": 5
}
