{
 "cells": [
  {
   "cell_type": "code",
   "execution_count": 15,
   "id": "2fb59b85",
   "metadata": {},
   "outputs": [
    {
     "name": "stdout",
     "output_type": "stream",
     "text": [
      "1 2 3 4 5 \n",
      "\n",
      "3\n"
     ]
    }
   ],
   "source": [
    "class Node:\n",
    "    def __init__(self, val, next_=None):\n",
    "        self.val = val\n",
    "        self.next = next_\n",
    "        \n",
    "        \n",
    "class LinkedList:\n",
    "    def __init__(self, head=None):\n",
    "        self.head = head\n",
    "        \n",
    "    def printf(self):\n",
    "        current = self.head\n",
    "        while current:\n",
    "            print(current.val, end=\" \")\n",
    "            current = current.next\n",
    "        \n",
    "    def prepend(self, data):\n",
    "        node = Node(data)\n",
    "        \n",
    "        if not self.head:\n",
    "            self.head = node\n",
    "            return\n",
    "        \n",
    "        temp_head = self.head\n",
    "        self.head = node\n",
    "        node.next = temp_head\n",
    "        \n",
    "    def middle(self):\n",
    "        if not self.head: return\n",
    "        \n",
    "        pointer1 = self.head\n",
    "        pointer2 = self.head\n",
    "        \n",
    "        while pointer1.next and pointer2 and pointer2.next:\n",
    "            pointer1 = pointer1.next\n",
    "            pointer2 = pointer2.next.next\n",
    "            \n",
    "        print(\"\\n\")\n",
    "        print(pointer1.val)\n",
    "        \n",
    "        \n",
    "list1 = LinkedList()\n",
    "\n",
    "head = [1,2,3,4,5,6]\n",
    "\n",
    "# list1.prepend(6)\n",
    "list1.prepend(5)\n",
    "list1.prepend(4)\n",
    "list1.prepend(3)\n",
    "list1.prepend(2)\n",
    "list1.prepend(1)\n",
    "list1.printf()\n",
    "list1.middle()\n"
   ]
  },
  {
   "cell_type": "code",
   "execution_count": null,
   "id": "be731fa5",
   "metadata": {},
   "outputs": [],
   "source": []
  }
 ],
 "metadata": {
  "kernelspec": {
   "display_name": "Python 3 (ipykernel)",
   "language": "python",
   "name": "python3"
  },
  "language_info": {
   "codemirror_mode": {
    "name": "ipython",
    "version": 3
   },
   "file_extension": ".py",
   "mimetype": "text/x-python",
   "name": "python",
   "nbconvert_exporter": "python",
   "pygments_lexer": "ipython3",
   "version": "3.10.12"
  }
 },
 "nbformat": 4,
 "nbformat_minor": 5
}
