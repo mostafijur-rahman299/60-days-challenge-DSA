{
 "cells": [
  {
   "cell_type": "code",
   "execution_count": 24,
   "id": "4efb853f",
   "metadata": {},
   "outputs": [
    {
     "name": "stdout",
     "output_type": "stream",
     "text": [
      "Ancestors of node 4: [1, 2]\n"
     ]
    }
   ],
   "source": [
    "class TreeNode:\n",
    "    def __init__(self, val=0, left=None, right=None):\n",
    "        self.val = val\n",
    "        self.left = left\n",
    "        self.right = right\n",
    "\n",
    "def find_ancestors(root, target):\n",
    "    if not root: return\n",
    "    \n",
    "    stack = [(root, [])]\n",
    "    \n",
    "    while stack:\n",
    "        root, ancestors = stack.pop()\n",
    "        if root.val == target:\n",
    "            return ancestors\n",
    "        if root.left:\n",
    "            stack.append((root.left, ancestors + [root.val]))\n",
    "        if root.right:\n",
    "            stack.append((root.right, ancestors + [root.val]))\n",
    "        \n",
    "    return []\n",
    "\n",
    "# Example usage\n",
    "# Create a sample binary tree\n",
    "#       1\n",
    "#      / \\\n",
    "#     2   3\n",
    "#    / \\\n",
    "#   4   5\n",
    "root = TreeNode(1)\n",
    "root.left = TreeNode(2)\n",
    "root.right = TreeNode(3)\n",
    "root.left.left = TreeNode(4)\n",
    "root.left.right = TreeNode(5)\n",
    "\n",
    "target_node = 4\n",
    "ancestors = find_ancestors(root, target_node)\n",
    "\n",
    "if ancestors:\n",
    "    print(f\"Ancestors of node {target_node}: {ancestors}\")\n",
    "else:\n",
    "    print(f\"Node {target_node} not found in the tree.\")\n"
   ]
  },
  {
   "cell_type": "code",
   "execution_count": null,
   "id": "7d27665d",
   "metadata": {},
   "outputs": [],
   "source": []
  }
 ],
 "metadata": {
  "kernelspec": {
   "display_name": "Python 3 (ipykernel)",
   "language": "python",
   "name": "python3"
  },
  "language_info": {
   "codemirror_mode": {
    "name": "ipython",
    "version": 3
   },
   "file_extension": ".py",
   "mimetype": "text/x-python",
   "name": "python",
   "nbconvert_exporter": "python",
   "pygments_lexer": "ipython3",
   "version": "3.10.12"
  }
 },
 "nbformat": 4,
 "nbformat_minor": 5
}
