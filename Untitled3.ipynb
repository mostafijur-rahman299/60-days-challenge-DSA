{
 "cells": [
  {
   "cell_type": "code",
   "execution_count": 42,
   "id": "db337ab3",
   "metadata": {},
   "outputs": [
    {
     "data": {
      "text/plain": [
       "5"
      ]
     },
     "execution_count": 42,
     "metadata": {},
     "output_type": "execute_result"
    }
   ],
   "source": [
    "def decimal_to_binary(decimal_number):\n",
    "    binary = \"\"\n",
    "    while decimal_number:\n",
    "        counter = decimal_number % 2\n",
    "        binary += str(counter)\n",
    "        decimal_number = int(decimal_number // 2)\n",
    "    return binary[::-1]\n",
    "\n",
    "def binary_to_decimal(binary_number):\n",
    "    decimal_number = 0\n",
    "    exponent = 0\n",
    "    \n",
    "    while binary_number:\n",
    "        decimal_number += (binary_number % 2) * (2 ** exponent)\n",
    "        binary_number //= 10\n",
    "        exponent += 1\n",
    "    return decimal_number\n",
    "        \n",
    "        \n",
    "decimal_to_binary(4)\n",
    "\n",
    "binary_to_decimal(101)"
   ]
  },
  {
   "cell_type": "code",
   "execution_count": null,
   "id": "b2b3091d",
   "metadata": {},
   "outputs": [],
   "source": []
  }
 ],
 "metadata": {
  "kernelspec": {
   "display_name": "Python 3 (ipykernel)",
   "language": "python",
   "name": "python3"
  },
  "language_info": {
   "codemirror_mode": {
    "name": "ipython",
    "version": 3
   },
   "file_extension": ".py",
   "mimetype": "text/x-python",
   "name": "python",
   "nbconvert_exporter": "python",
   "pygments_lexer": "ipython3",
   "version": "3.10.12"
  }
 },
 "nbformat": 4,
 "nbformat_minor": 5
}
