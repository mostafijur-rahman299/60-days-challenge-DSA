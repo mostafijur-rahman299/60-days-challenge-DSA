{
 "cells": [
  {
   "cell_type": "code",
   "execution_count": 1,
   "id": "dbad10fe",
   "metadata": {},
   "outputs": [
    {
     "name": "stdout",
     "output_type": "stream",
     "text": [
      "1 5\n",
      "1 3\n",
      "1 6\n",
      "1 4\n",
      "5\n"
     ]
    }
   ],
   "source": [
    "\n",
    "buy = 0\n",
    "sell = 1\n",
    "max_profit = 0\n",
    "\n",
    "while sell < len(prices):\n",
    "    if prices[buy] < prices[sell]:        \n",
    "        current_profit =  prices[sell] - prices[buy]\n",
    "        max_profit = max(current_profit, max_profit)\n",
    "        \n",
    "    else:\n",
    "        buy = sell\n",
    "    \n",
    "    sell += 1\n",
    "    \n",
    "print(max_profit)\n",
    "    "
   ]
  },
  {
   "cell_type": "code",
   "execution_count": null,
   "id": "685cf5b6",
   "metadata": {},
   "outputs": [],
   "source": []
  }
 ],
 "metadata": {
  "kernelspec": {
   "display_name": "Python 3 (ipykernel)",
   "language": "python",
   "name": "python3"
  },
  "language_info": {
   "codemirror_mode": {
    "name": "ipython",
    "version": 3
   },
   "file_extension": ".py",
   "mimetype": "text/x-python",
   "name": "python",
   "nbconvert_exporter": "python",
   "pygments_lexer": "ipython3",
   "version": "3.10.12"
  }
 },
 "nbformat": 4,
 "nbformat_minor": 5
}
