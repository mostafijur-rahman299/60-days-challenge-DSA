{
 "cells": [
  {
   "cell_type": "code",
   "execution_count": 8,
   "id": "96fdbb2d",
   "metadata": {},
   "outputs": [
    {
     "data": {
      "text/plain": [
       "[0, 3]"
      ]
     },
     "execution_count": 8,
     "metadata": {},
     "output_type": "execute_result"
    }
   ],
   "source": [
    "def twoSum(nums, target):\n",
    "    numsWithIndex = [(num, i) for i, num in enumerate(nums)]\n",
    "    numsWithIndex.sort()\n",
    "    \n",
    "    left, right = 0, len(nums) - 1\n",
    "    while left < right:\n",
    "        num_sum = numsWithIndex[left][0] + numsWithIndex[right][0]\n",
    "        if num_sum == target:\n",
    "            return [numsWithIndex[left][1], numsWithIndex[right][1]]\n",
    "        elif num_sum < target:\n",
    "            left += 1\n",
    "        else:\n",
    "            right -= 1\n",
    "    return []\n",
    "\n",
    "    \n",
    "nums = [2,11,15,7]\n",
    "target = 9\n",
    "twoSum(nums, target)"
   ]
  },
  {
   "cell_type": "code",
   "execution_count": null,
   "id": "dfd37e7c",
   "metadata": {},
   "outputs": [],
   "source": []
  }
 ],
 "metadata": {
  "kernelspec": {
   "display_name": "Python 3 (ipykernel)",
   "language": "python",
   "name": "python3"
  },
  "language_info": {
   "codemirror_mode": {
    "name": "ipython",
    "version": 3
   },
   "file_extension": ".py",
   "mimetype": "text/x-python",
   "name": "python",
   "nbconvert_exporter": "python",
   "pygments_lexer": "ipython3",
   "version": "3.10.12"
  }
 },
 "nbformat": 4,
 "nbformat_minor": 5
}
