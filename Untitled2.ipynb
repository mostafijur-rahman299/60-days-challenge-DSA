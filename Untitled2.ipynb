{
 "cells": [
  {
   "cell_type": "code",
   "execution_count": 8,
   "id": "aacd499b",
   "metadata": {},
   "outputs": [
    {
     "name": "stdout",
     "output_type": "stream",
     "text": [
      "0\n"
     ]
    }
   ],
   "source": [
    "prices = [7,6,4,3,1]\n",
    "\n",
    "\n",
    "left = 0 #Buy\n",
    "right = 1 #Sell\n",
    "max_profit = 0\n",
    "\n",
    "while right < len(prices):\n",
    "    currentProfit = prices[right] - prices[left] #our current Profit\n",
    "    if prices[left] < prices[right]:\n",
    "        max_profit =max(currentProfit,max_profit)\n",
    "    else:\n",
    "        left = right + 1\n",
    "    right += 1\n",
    "    \n",
    "print(max_profit)"
   ]
  },
  {
   "cell_type": "code",
   "execution_count": null,
   "id": "b35e9cac",
   "metadata": {},
   "outputs": [],
   "source": []
  }
 ],
 "metadata": {
  "kernelspec": {
   "display_name": "Python 3 (ipykernel)",
   "language": "python",
   "name": "python3"
  },
  "language_info": {
   "codemirror_mode": {
    "name": "ipython",
    "version": 3
   },
   "file_extension": ".py",
   "mimetype": "text/x-python",
   "name": "python",
   "nbconvert_exporter": "python",
   "pygments_lexer": "ipython3",
   "version": "3.10.12"
  }
 },
 "nbformat": 4,
 "nbformat_minor": 5
}
