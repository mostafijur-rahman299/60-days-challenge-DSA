{
 "cells": [
  {
   "cell_type": "code",
   "execution_count": 35,
   "id": "4ccfc951",
   "metadata": {},
   "outputs": [
    {
     "name": "stdout",
     "output_type": "stream",
     "text": [
      "2147483647\n",
      "2147483648\n",
      "2147483648\n"
     ]
    }
   ],
   "source": [
    "s = \"2147483648\"\n",
    "\n",
    "s = s.strip()\n",
    "\n",
    "number = \"\"\n",
    "sign = \"+\"\n",
    "\n",
    "for index in range(len(s)):\n",
    "    if index == 0 and s[index] not in \"-+0123456789\":\n",
    "        break\n",
    "    if s[index] in \"0123456789\":\n",
    "        number += s[index]\n",
    "    elif s[index] not in \"0123456789\" and number:\n",
    "        break\n",
    "    elif not number and s[index] in \"+-\" and index < len(s) and s[index+1] in \"0123456789\":\n",
    "        sign = s[index]\n",
    "        \n",
    "if number:\n",
    "    if sign == \"-\" and int(sign+number) < -(2**31):\n",
    "        print(-(2**31))\n",
    "    elif sign == \"+\" and int(number) > (2**31-1):\n",
    "        print(2**31-1)\n",
    "        \n",
    "print(int(sign+number))\n",
    "\n",
    "print(2**31)"
   ]
  },
  {
   "cell_type": "code",
   "execution_count": null,
   "id": "99840243",
   "metadata": {},
   "outputs": [],
   "source": []
  },
  {
   "cell_type": "code",
   "execution_count": null,
   "id": "fed1af5d",
   "metadata": {},
   "outputs": [],
   "source": []
  }
 ],
 "metadata": {
  "kernelspec": {
   "display_name": "Python 3 (ipykernel)",
   "language": "python",
   "name": "python3"
  },
  "language_info": {
   "codemirror_mode": {
    "name": "ipython",
    "version": 3
   },
   "file_extension": ".py",
   "mimetype": "text/x-python",
   "name": "python",
   "nbconvert_exporter": "python",
   "pygments_lexer": "ipython3",
   "version": "3.10.12"
  }
 },
 "nbformat": 4,
 "nbformat_minor": 5
}
