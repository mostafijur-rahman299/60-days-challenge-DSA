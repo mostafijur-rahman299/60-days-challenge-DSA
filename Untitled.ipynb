{
 "cells": [
  {
   "cell_type": "code",
   "execution_count": 6,
   "id": "5d82f0ae",
   "metadata": {},
   "outputs": [
    {
     "data": {
      "text/plain": [
       "[[3], [9, 20], [15, 7]]"
      ]
     },
     "execution_count": 6,
     "metadata": {},
     "output_type": "execute_result"
    }
   ],
   "source": [
    "class Node:\n",
    "    def __init__(self, val, left=None, right=None):\n",
    "        self.val = val\n",
    "        self.left = left\n",
    "        self.right = right\n",
    "        \n",
    "        \n",
    "\n",
    "def build_tree_with_level_order(arr):\n",
    "    if not arr: return\n",
    "    \n",
    "    queue = []\n",
    "    root = Node(arr[0])\n",
    "    queue.append(root)\n",
    "    \n",
    "    index = 1\n",
    "    \n",
    "    while queue and len(arr) > index:\n",
    "        node = queue.pop(0)        \n",
    "        if arr[index] is not None:\n",
    "            node.left = Node(arr[index])\n",
    "            queue.append(node.left)\n",
    "            \n",
    "        index += 1\n",
    "        \n",
    "        if arr[index] is not None:\n",
    "            node.right = Node(arr[index])\n",
    "            queue.append(node.right)\n",
    "            \n",
    "        index += 1\n",
    "        \n",
    "    return root\n",
    "\n",
    "\n",
    "def level_order_traversal(root):\n",
    "    if not root: return []\n",
    "    \n",
    "    queue = []\n",
    "    queue.append(root)\n",
    "    queue.append(None)\n",
    "    result = []\n",
    "    temp_res = []\n",
    "    \n",
    "    while queue:\n",
    "        node = queue.pop(0)\n",
    "        \n",
    "        if node is None:\n",
    "            result.append(temp_res)\n",
    "            temp_res = []\n",
    "            if queue:\n",
    "                queue.append(None)\n",
    "            else:\n",
    "                break\n",
    "        else:\n",
    "            temp_res.append(node.val)\n",
    "\n",
    "            if node.left:\n",
    "                queue.append(node.left)\n",
    "            if node.right:\n",
    "                queue.append(node.right)\n",
    "    return result\n",
    "        \n",
    "root = build_tree_with_level_order([3,9,20,None,None,15,7])\n",
    "\n",
    "level_order_traversal(root)\n"
   ]
  },
  {
   "cell_type": "code",
   "execution_count": null,
   "id": "c0823eff",
   "metadata": {},
   "outputs": [],
   "source": []
  }
 ],
 "metadata": {
  "kernelspec": {
   "display_name": "Python 3 (ipykernel)",
   "language": "python",
   "name": "python3"
  },
  "language_info": {
   "codemirror_mode": {
    "name": "ipython",
    "version": 3
   },
   "file_extension": ".py",
   "mimetype": "text/x-python",
   "name": "python",
   "nbconvert_exporter": "python",
   "pygments_lexer": "ipython3",
   "version": "3.10.12"
  }
 },
 "nbformat": 4,
 "nbformat_minor": 5
}
