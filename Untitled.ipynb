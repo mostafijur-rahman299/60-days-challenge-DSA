{
 "cells": [
  {
   "cell_type": "code",
   "execution_count": 35,
   "id": "54c6e619",
   "metadata": {},
   "outputs": [
    {
     "name": "stdout",
     "output_type": "stream",
     "text": [
      "[3, 3, 3]\n",
      "[3, 3, 0]\n",
      "[3, 0, 1]\n"
     ]
    }
   ],
   "source": [
    "image = [\n",
    "    [1,1,1],\n",
    "    [1,1,0],\n",
    "    [1,0,1]\n",
    "]\n",
    "\n",
    "i = 0\n",
    "j = 1\n",
    "replace = 3\n",
    "target = image[i][j]\n",
    "\n",
    "def flood_fill(i,j):\n",
    "    if i < 0 or j < 0 or i >= len(image) or j >= len(image[0]):\n",
    "        return\n",
    "    \n",
    "    if image[i][j] == 3: return\n",
    "    if image[i][j] != target: return\n",
    "    \n",
    "    image[i][j] = 3\n",
    "    \n",
    "    flood_fill(i-1, j)\n",
    "    flood_fill(i, j-1)\n",
    "    flood_fill(i+1, j)\n",
    "    flood_fill(i, j+1)\n",
    "        \n",
    "    return\n",
    "\n",
    "flood_fill(i,j)\n",
    "\n",
    "for k in image:\n",
    "    print(k)"
   ]
  },
  {
   "cell_type": "code",
   "execution_count": null,
   "id": "022c15ab",
   "metadata": {},
   "outputs": [],
   "source": [
    "class Solution:\n",
    "    def floodFill(self, image: List[List[int]], sr: int, sc: int, color: int) -> List[List[int]]:\n",
    "        start_color = image[sr][sc]\n",
    "        \n",
    "        def flood_fill(i, j):\n",
    "            if i < 0 or j < 0 or i >= len(image) or j >= len(image[0]): return\n",
    "            \n",
    "            if image[i][j] == color: return\n",
    "            if image[i][j] != start_color: return\n",
    "            \n",
    "            image[i][j] = 3\n",
    "    \n",
    "            flood_fill(i-1, j)\n",
    "            flood_fill(i, j-1)\n",
    "            flood_fill(i+1, j)\n",
    "            flood_fill(i, j+1)\n",
    "            \n",
    "        flood_fill(sc, rc)\n",
    "        return image\n",
    "            \n",
    "            "
   ]
  }
 ],
 "metadata": {
  "kernelspec": {
   "display_name": "Python 3 (ipykernel)",
   "language": "python",
   "name": "python3"
  },
  "language_info": {
   "codemirror_mode": {
    "name": "ipython",
    "version": 3
   },
   "file_extension": ".py",
   "mimetype": "text/x-python",
   "name": "python",
   "nbconvert_exporter": "python",
   "pygments_lexer": "ipython3",
   "version": "3.10.12"
  }
 },
 "nbformat": 4,
 "nbformat_minor": 5
}
