{
 "cells": [
  {
   "cell_type": "code",
   "execution_count": 11,
   "id": "1e49f88e",
   "metadata": {},
   "outputs": [
    {
     "name": "stdout",
     "output_type": "stream",
     "text": [
      "mahmu\n",
      "ahmud\n",
      "hmuds\n",
      "mudsa\n",
      "udsaj\n",
      "dsaji\n",
      "sajib\n",
      "Yesss\n"
     ]
    }
   ],
   "source": [
    "ransomNote = \"sajib\"\n",
    "magazine = \"mahmudsajib\"\n",
    "\n",
    "pointer1 = 0\n",
    "pointer2 = len(ransomNote)\n",
    "\n",
    "while pointer2 <= len(magazine):\n",
    "    print(magazine[pointer1:pointer2])\n",
    "    if magazine[pointer1:pointer2] == ransomNote:\n",
    "        print(\"Yesss\")\n",
    "        break\n",
    "    pointer1 += 1\n",
    "    pointer2 += 1\n",
    "    \n",
    "    \n",
    "\n"
   ]
  },
  {
   "cell_type": "code",
   "execution_count": null,
   "id": "3cd8f7b9",
   "metadata": {},
   "outputs": [],
   "source": []
  }
 ],
 "metadata": {
  "kernelspec": {
   "display_name": "Python 3 (ipykernel)",
   "language": "python",
   "name": "python3"
  },
  "language_info": {
   "codemirror_mode": {
    "name": "ipython",
    "version": 3
   },
   "file_extension": ".py",
   "mimetype": "text/x-python",
   "name": "python",
   "nbconvert_exporter": "python",
   "pygments_lexer": "ipython3",
   "version": "3.10.12"
  }
 },
 "nbformat": 4,
 "nbformat_minor": 5
}
