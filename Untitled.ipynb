{
 "cells": [
  {
   "cell_type": "code",
   "execution_count": null,
   "id": "6b14965e",
   "metadata": {},
   "outputs": [],
   "source": [
    "class TimeMap:\n",
    "\n",
    "    def __init__(self):\n",
    "        self.storage = {}\n",
    "\n",
    "    def set(self, key: str, value: str, timestamp: int) -> None:\n",
    "        if key not in self.storage.keys():\n",
    "            self.storage[key] = {\n",
    "                timestamp: value\n",
    "            }\n",
    "            return None\n",
    "        \n",
    "        self.storage[key][timestamp] = value\n",
    "        \n",
    "    def get(self, key: str, timestamp: int) -> str:\n",
    "        print(self.storage)\n",
    "        \n",
    "timemap = TimeMap()\n",
    "timemap.set(\"foo\", \"bar\", 1)\n",
    "timemap.set(\"foo\", \"bar2\", 3)\n",
    "timemap.get(\"key\", 1)"
   ]
  }
 ],
 "metadata": {
  "kernelspec": {
   "display_name": "Python 3 (ipykernel)",
   "language": "python",
   "name": "python3"
  }
 },
 "nbformat": 4,
 "nbformat_minor": 5
}
