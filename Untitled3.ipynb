{
 "cells": [
  {
   "cell_type": "code",
   "execution_count": 12,
   "id": "67b6daf1",
   "metadata": {},
   "outputs": [
    {
     "name": "stdout",
     "output_type": "stream",
     "text": [
      "1 1 0\n",
      "sum=== 10\n",
      "1 0 1\n",
      "sum=== 10\n",
      "100\n"
     ]
    }
   ],
   "source": [
    "a = '11'\n",
    "b = '1'\n",
    "\n",
    "res = ''\n",
    "\n",
    "carry = '0'\n",
    "\n",
    "\n",
    "if len(a) < len(b):\n",
    "    a = len(b[len(a):]) * '0' + a\n",
    "if len(b) < len(a):\n",
    "    b = len(a[len(b):]) * '0' + b\n",
    "    \n",
    "\n",
    "def b_sum(num1, num2, carry):\n",
    "    print(num1, num2, carry)\n",
    "    summ = '0'\n",
    "    if num1 == '1' and num2 == '1':\n",
    "        summ = '10'\n",
    "    elif num1 == '0' or num2 == '0':\n",
    "        summ =  str(int(num1) or int(num2))\n",
    "    if carry == '1':\n",
    "        if summ == '10':\n",
    "            return '11'\n",
    "        elif summ == '1':\n",
    "            return '10'\n",
    "        else:\n",
    "            return carry\n",
    "    return summ\n",
    "\n",
    "for i in range(len(b)-1, -1, -1):\n",
    "    summ = b_sum(a[i], b[i], carry)\n",
    "    \n",
    "    print(\"sum===\", summ)\n",
    "    \n",
    "    if summ == '1':\n",
    "        res = summ + res\n",
    "        carry = '0'\n",
    "        continue\n",
    "        \n",
    "    if i == 0:\n",
    "        res = summ + res\n",
    "        break\n",
    "        \n",
    "    res = str(int(summ) % 10) + res\n",
    "    \n",
    "    carry = str(int(summ) // 10) \n",
    "        \n",
    "print(res)"
   ]
  },
  {
   "cell_type": "code",
   "execution_count": 42,
   "id": "3fafafcc",
   "metadata": {},
   "outputs": [
    {
     "data": {
      "text/plain": [
       "1"
      ]
     },
     "execution_count": 42,
     "metadata": {},
     "output_type": "execute_result"
    }
   ],
   "source": [
    "10 // 10"
   ]
  },
  {
   "cell_type": "code",
   "execution_count": null,
   "id": "75f377c7",
   "metadata": {},
   "outputs": [],
   "source": []
  }
 ],
 "metadata": {
  "kernelspec": {
   "display_name": "Python 3 (ipykernel)",
   "language": "python",
   "name": "python3"
  },
  "language_info": {
   "codemirror_mode": {
    "name": "ipython",
    "version": 3
   },
   "file_extension": ".py",
   "mimetype": "text/x-python",
   "name": "python",
   "nbconvert_exporter": "python",
   "pygments_lexer": "ipython3",
   "version": "3.10.12"
  }
 },
 "nbformat": 4,
 "nbformat_minor": 5
}
