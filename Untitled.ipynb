{
 "cells": [
  {
   "cell_type": "code",
   "execution_count": 56,
   "id": "512e8fdf",
   "metadata": {},
   "outputs": [
    {
     "name": "stdout",
     "output_type": "stream",
     "text": [
      "{'v'}\n",
      "{'f', 'd'}\n",
      "5\n"
     ]
    }
   ],
   "source": [
    "s = \"dvdfvbn\"\n",
    "\n",
    "a_pointer = 0\n",
    "b_pointer = 0\n",
    "max_l = 0\n",
    "char_set = set()\n",
    "\n",
    "while b_pointer < len(s):\n",
    "    if s[b_pointer] not in char_set:\n",
    "        char_set.add(s[b_pointer])\n",
    "        b_pointer += 1\n",
    "        max_l = max(len(char_set), max_l)\n",
    "    else:\n",
    "        char_set.remove(s[a_pointer])\n",
    "        print(char_set)\n",
    "        a_pointer += 1\n",
    "        \n",
    "print(max_l)\n"
   ]
  },
  {
   "cell_type": "code",
   "execution_count": null,
   "id": "73ed7ad4",
   "metadata": {},
   "outputs": [],
   "source": []
  }
 ],
 "metadata": {
  "kernelspec": {
   "display_name": "Python 3 (ipykernel)",
   "language": "python",
   "name": "python3"
  },
  "language_info": {
   "codemirror_mode": {
    "name": "ipython",
    "version": 3
   },
   "file_extension": ".py",
   "mimetype": "text/x-python",
   "name": "python",
   "nbconvert_exporter": "python",
   "pygments_lexer": "ipython3",
   "version": "3.10.12"
  }
 },
 "nbformat": 4,
 "nbformat_minor": 5
}
