{
 "cells": [
  {
   "cell_type": "code",
   "execution_count": 21,
   "id": "7bfa5059",
   "metadata": {},
   "outputs": [
    {
     "name": "stdout",
     "output_type": "stream",
     "text": [
      "[0, 0]\n",
      "[0, 0]\n",
      "[0, 0]\n"
     ]
    }
   ],
   "source": [
    "input_data = [0,0]\n",
    "prefix_data = []\n",
    "postfix_data = []\n",
    "output_data = []\n",
    "\n",
    "for index in range(len(input_data)):\n",
    "    \n",
    "    reverse_index = len(input_data)-index\n",
    "    \n",
    "    if index == 0 or reverse_index == len(input_data):\n",
    "        prefix_data.append(input_data[index])\n",
    "        postfix_data.insert(0, input_data[reverse_index-1])\n",
    "        continue\n",
    "        \n",
    "    prefix_data.append(prefix_data[len(prefix_data)-1] * input_data[index])\n",
    "    postfix_data.insert(0, postfix_data[0]*input_data[reverse_index-1])\n",
    "    \n",
    "for index in range(len(input_data)):\n",
    "    prefix = 1\n",
    "    postfix = 1\n",
    "    \n",
    "    if index >= 1:\n",
    "        prefix = prefix_data[index-1]\n",
    "    if index != len(input_data) - 1:\n",
    "        postfix = postfix_data[index+1]\n",
    "        \n",
    "    output_data.append(prefix*postfix)\n",
    "    \n",
    "    \n",
    "    \n",
    "print(prefix_data)\n",
    "print(postfix_data)\n",
    "print(output_data)"
   ]
  },
  {
   "cell_type": "code",
   "execution_count": null,
   "id": "12cf318f",
   "metadata": {},
   "outputs": [],
   "source": []
  }
 ],
 "metadata": {
  "kernelspec": {
   "display_name": "Python 3 (ipykernel)",
   "language": "python",
   "name": "python3"
  },
  "language_info": {
   "codemirror_mode": {
    "name": "ipython",
    "version": 3
   },
   "file_extension": ".py",
   "mimetype": "text/x-python",
   "name": "python",
   "nbconvert_exporter": "python",
   "pygments_lexer": "ipython3",
   "version": "3.10.12"
  }
 },
 "nbformat": 4,
 "nbformat_minor": 5
}
