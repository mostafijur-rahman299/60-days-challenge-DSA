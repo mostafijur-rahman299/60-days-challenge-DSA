{
 "cells": [
  {
   "cell_type": "code",
   "execution_count": 15,
   "id": "cec993fd",
   "metadata": {},
   "outputs": [
    {
     "name": "stdout",
     "output_type": "stream",
     "text": [
      "[2, 2, 2]\n",
      "[0, 2, 2]\n",
      "[1, 0, 2]\n",
      "0\n",
      "False\n"
     ]
    }
   ],
   "source": [
    "import collections\n",
    "\n",
    "grid = [[2,1,1],[0,1,1],[1,0,1]]\n",
    "\n",
    "rows, cols = len(grid), len(grid[0])\n",
    "minute = 0\n",
    "visit = set()\n",
    "\n",
    "def bfs(r, c):\n",
    "    q = collections.deque()\n",
    "    q.append((r, c))\n",
    "    visit.add((r, c))\n",
    "    \n",
    "    while q:\n",
    "        row, col = q.popleft()\n",
    "        \n",
    "        directions = [(0, 1), (0, -1), (1, 0), (-1, 0)]\n",
    "        can_elasp = False\n",
    "        \n",
    "        for dr, dc in directions:\n",
    "            r, c = dr + row, dc + col\n",
    "            \n",
    "            if (r in range(rows) and \n",
    "                c in range(cols) and \n",
    "                (r, c) not in visit and \n",
    "                grid[r][c] == 1):\n",
    "                grid[r][c] = 2\n",
    "                q.append((r, c))\n",
    "                visit.add((r, c))\n",
    "                can_elasp = True\n",
    "        \n",
    "\n",
    "for r in range(rows):\n",
    "    for c in range(cols):\n",
    "        if (r, c) not in visit and grid[r][c] == 2:\n",
    "            bfs(r, c)\n",
    "            \n",
    "for g in grid:\n",
    "    print(g)\n",
    "    \n",
    "print(minute)\n",
    "\n",
    "print(1 in grid)"
   ]
  },
  {
   "cell_type": "code",
   "execution_count": null,
   "id": "486aa33a",
   "metadata": {},
   "outputs": [],
   "source": []
  },
  {
   "cell_type": "code",
   "execution_count": null,
   "id": "216590a4",
   "metadata": {},
   "outputs": [],
   "source": []
  }
 ],
 "metadata": {
  "kernelspec": {
   "display_name": "Python 3 (ipykernel)",
   "language": "python",
   "name": "python3"
  },
  "language_info": {
   "codemirror_mode": {
    "name": "ipython",
    "version": 3
   },
   "file_extension": ".py",
   "mimetype": "text/x-python",
   "name": "python",
   "nbconvert_exporter": "python",
   "pygments_lexer": "ipython3",
   "version": "3.10.12"
  }
 },
 "nbformat": 4,
 "nbformat_minor": 5
}
