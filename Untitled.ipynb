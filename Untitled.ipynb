{
 "cells": [
  {
   "cell_type": "code",
   "execution_count": 25,
   "id": "653f495f",
   "metadata": {},
   "outputs": [
    {
     "name": "stdout",
     "output_type": "stream",
     "text": [
      "3 2 0 -4 called====\n"
     ]
    },
    {
     "data": {
      "text/plain": [
       "False"
      ]
     },
     "execution_count": 25,
     "metadata": {},
     "output_type": "execute_result"
    }
   ],
   "source": [
    "class Node:\n",
    "    def __init__(self, val, next_=None):\n",
    "        self.val = val\n",
    "        self.next = next_\n",
    "        \n",
    "\n",
    "class LinkedList:\n",
    "    def __init__(self, head=None):\n",
    "        self.head = head\n",
    "        \n",
    "    def print_item(self):\n",
    "        if not self.head: return\n",
    "        \n",
    "        current = self.head\n",
    "        while current:\n",
    "            print(current.val, end=\" \")\n",
    "            current = current.next\n",
    "        \n",
    "    def append_item(self, arr):\n",
    "        if not arr: return\n",
    "        \n",
    "        if not self.head:\n",
    "            node = Node(arr[0])\n",
    "            self.head = node\n",
    "            \n",
    "        if len(arr) > 1:\n",
    "            index = 1\n",
    "            current = self.head\n",
    "            \n",
    "            while index < len(arr):\n",
    "                while current.next:\n",
    "                    current = current.next\n",
    "                    \n",
    "                current.next = Node(arr[index])\n",
    "                current = current.next\n",
    "                \n",
    "                index += 1\n",
    "                \n",
    "                \n",
    "    def has_cycle(self):\n",
    "        slow=self.head\n",
    "        fast=self.head\n",
    "        while slow and fast and fast.next:\n",
    "            slow=slow.next\n",
    "            fast=fast.next.next\n",
    "            if slow==fast:\n",
    "                return True\n",
    "        \n",
    "        return False   \n",
    "                            \n",
    "                \n",
    "list1 = LinkedList()\n",
    "list1.append_item([3,2,0,-4])\n",
    "list1.print_item()\n",
    "list1.has_cycle()        \n",
    "            "
   ]
  },
  {
   "cell_type": "code",
   "execution_count": null,
   "id": "5065896e",
   "metadata": {},
   "outputs": [],
   "source": []
  }
 ],
 "metadata": {
  "kernelspec": {
   "display_name": "Python 3 (ipykernel)",
   "language": "python",
   "name": "python3"
  },
  "language_info": {
   "codemirror_mode": {
    "name": "ipython",
    "version": 3
   },
   "file_extension": ".py",
   "mimetype": "text/x-python",
   "name": "python",
   "nbconvert_exporter": "python",
   "pygments_lexer": "ipython3",
   "version": "3.10.12"
  }
 },
 "nbformat": 4,
 "nbformat_minor": 5
}
