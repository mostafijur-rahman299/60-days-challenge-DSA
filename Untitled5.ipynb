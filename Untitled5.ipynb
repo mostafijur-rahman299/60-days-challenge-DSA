{
 "cells": [
  {
   "cell_type": "code",
   "execution_count": 10,
   "id": "5698e1c8",
   "metadata": {},
   "outputs": [
    {
     "name": "stdout",
     "output_type": "stream",
     "text": [
      "1\n",
      "1\n",
      "2\n",
      "3\n",
      "4\n",
      "4\n"
     ]
    }
   ],
   "source": [
    "class Node:\n",
    "    def __init__(self, val, next_=None):\n",
    "        self.val = val\n",
    "        self.next = next_\n",
    "        \n",
    "\n",
    "class LinkedList:\n",
    "    def __init__(self, head=None):\n",
    "        self.head = head\n",
    "    \n",
    "    def push(self, val):\n",
    "        node = Node(val)\n",
    "        \n",
    "        if not self.head:\n",
    "            self.head = node\n",
    "            return\n",
    "        \n",
    "        current = self.head\n",
    "        while current.next:\n",
    "            current = current.next\n",
    "        \n",
    "        current.next = node\n",
    "        \n",
    "\n",
    "def merge(list1, list2):\n",
    "    if not list1 or not list2:\n",
    "        return list1 or list2\n",
    "    \n",
    "    seek, target = (list1, list2) if list1.val < list2.val else (list2, list1)\n",
    "    head = seek\n",
    "    \n",
    "    while seek:\n",
    "        while seek.next and seek.next.val < target.val:\n",
    "            seek = seek.next\n",
    "        seek.next, target = target, seek.next\n",
    "        seek = seek.next\n",
    "    return head\n",
    "\n",
    "def print_data(head):\n",
    "    if not head:\n",
    "        return\n",
    "    current = head\n",
    "    while current:\n",
    "        print(current.val)\n",
    "        current = current.next\n",
    "        \n",
    "list1 = LinkedList()\n",
    "list1.push(1)\n",
    "list1.push(2)\n",
    "list1.push(4)\n",
    "\n",
    "list2 = LinkedList()\n",
    "list2.push(1)\n",
    "list2.push(3)\n",
    "list2.push(4)\n",
    "\n",
    "head = merge(list1.head, list2.head)\n",
    "print_data(head)\n"
   ]
  },
  {
   "cell_type": "code",
   "execution_count": null,
   "id": "3e2a2fcf",
   "metadata": {},
   "outputs": [],
   "source": []
  }
 ],
 "metadata": {
  "kernelspec": {
   "display_name": "Python 3 (ipykernel)",
   "language": "python",
   "name": "python3"
  },
  "language_info": {
   "codemirror_mode": {
    "name": "ipython",
    "version": 3
   },
   "file_extension": ".py",
   "mimetype": "text/x-python",
   "name": "python",
   "nbconvert_exporter": "python",
   "pygments_lexer": "ipython3",
   "version": "3.10.12"
  }
 },
 "nbformat": 4,
 "nbformat_minor": 5
}
