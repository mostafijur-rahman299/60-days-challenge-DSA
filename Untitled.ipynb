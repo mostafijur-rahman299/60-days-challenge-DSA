{
 "cells": [
  {
   "cell_type": "code",
   "execution_count": 6,
   "id": "a9a45001",
   "metadata": {},
   "outputs": [
    {
     "name": "stdout",
     "output_type": "stream",
     "text": [
      "{(-1, 0, 1), (-1, -1, 2)}\n"
     ]
    }
   ],
   "source": [
    "nums = [-1,0,1,2,-1,-4]\n",
    "\n",
    "nums = sorted(nums)\n",
    "\n",
    "results = set()\n",
    "\n",
    "for i in range(len(nums)):\n",
    "    j = i + 1\n",
    "    k = len(nums) - 1\n",
    "    while k > j:\n",
    "        total = nums[i] + nums[j] + nums[k]\n",
    "        if total > 0:\n",
    "            k -= 1\n",
    "        elif total < 0:\n",
    "            j += 1\n",
    "        else:\n",
    "            results.add((nums[i], nums[j], nums[k]))\n",
    "            j += 1\n",
    "            k -= 1\n",
    "            \n",
    "            while k > j and nums[j] == nums[j+1]:\n",
    "                j += 1\n",
    "            while k > j and nums[k] == nums[k-1]:\n",
    "                k += 1\n",
    "            \n",
    "print(results)\n",
    "            "
   ]
  },
  {
   "cell_type": "code",
   "execution_count": null,
   "id": "1893482e",
   "metadata": {},
   "outputs": [],
   "source": []
  }
 ],
 "metadata": {
  "kernelspec": {
   "display_name": "Python 3 (ipykernel)",
   "language": "python",
   "name": "python3"
  },
  "language_info": {
   "codemirror_mode": {
    "name": "ipython",
    "version": 3
   },
   "file_extension": ".py",
   "mimetype": "text/x-python",
   "name": "python",
   "nbconvert_exporter": "python",
   "pygments_lexer": "ipython3",
   "version": "3.10.12"
  }
 },
 "nbformat": 4,
 "nbformat_minor": 5
}
