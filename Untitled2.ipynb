{
 "cells": [
  {
   "cell_type": "code",
   "execution_count": null,
   "id": "d4b724bd",
   "metadata": {},
   "outputs": [],
   "source": [
    "class Node:\n",
    "    def __init__(self, val, neighbors=[]):\n",
    "        self.val = val\n",
    "        self.neighbors = neighbors\n",
    "        \n",
    "\n",
    "def cloneGraph(self, node: 'Node') -> 'Node':\n",
    "    oldToNew={}\n",
    "    def dfs(node):\n",
    "        if node in oldToNew:\n",
    "            return oldToNew[node]\n",
    "\n",
    "        copy=Node(node.val)\n",
    "        oldToNew[node]=copy\n",
    "\n",
    "        for nei in node.neighbors:\n",
    "            copy.neighbors.append(dfs(nei))\n",
    "\n",
    "        return copy\n",
    "\n",
    "    return dfs(node) if node else None  \n",
    "\n"
   ]
  }
 ],
 "metadata": {
  "kernelspec": {
   "display_name": "Python 3 (ipykernel)",
   "language": "python",
   "name": "python3"
  },
  "language_info": {
   "codemirror_mode": {
    "name": "ipython",
    "version": 3
   },
   "file_extension": ".py",
   "mimetype": "text/x-python",
   "name": "python",
   "nbconvert_exporter": "python",
   "pygments_lexer": "ipython3",
   "version": "3.10.12"
  }
 },
 "nbformat": 4,
 "nbformat_minor": 5
}
