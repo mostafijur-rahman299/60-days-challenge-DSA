{
 "cells": [
  {
   "cell_type": "code",
   "execution_count": 16,
   "id": "f8a36b64",
   "metadata": {},
   "outputs": [
    {
     "name": "stdout",
     "output_type": "stream",
     "text": [
      "{'a': 3, 'b': 2}\n",
      "{'a': 2, 'b': 2}\n",
      "{'a': 1, 'b': 2}\n"
     ]
    }
   ],
   "source": [
    "from collections import defaultdict \n",
    "\n",
    "ransom = \"aaa\"\n",
    "magazine = \"aabab\"\n",
    "\n",
    "mz_count = {}\n",
    "\n",
    "for m in magazine:\n",
    "    if m not in mz_count:\n",
    "        mz_count[m] = 1\n",
    "    else:\n",
    "        mz_count[m] += 1\n",
    "        \n",
    "for c in ransom:\n",
    "    print(mz_count)\n",
    "    if c not in mz_count:\n",
    "        print(\"No...\")\n",
    "        break\n",
    "\n",
    "    mz_count[c] -= 1\n",
    "    if mz_count[c] == 0:\n",
    "        del mz_count[c]\n",
    "\n",
    "\n"
   ]
  },
  {
   "cell_type": "code",
   "execution_count": null,
   "id": "9c1f98c4",
   "metadata": {},
   "outputs": [],
   "source": []
  }
 ],
 "metadata": {
  "kernelspec": {
   "display_name": "Python 3 (ipykernel)",
   "language": "python",
   "name": "python3"
  },
  "language_info": {
   "codemirror_mode": {
    "name": "ipython",
    "version": 3
   },
   "file_extension": ".py",
   "mimetype": "text/x-python",
   "name": "python",
   "nbconvert_exporter": "python",
   "pygments_lexer": "ipython3",
   "version": "3.10.12"
  }
 },
 "nbformat": 4,
 "nbformat_minor": 5
}
