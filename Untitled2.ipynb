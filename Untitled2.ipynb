{
 "cells": [
  {
   "cell_type": "code",
   "execution_count": 39,
   "id": "c5c72af0",
   "metadata": {},
   "outputs": [
    {
     "data": {
      "text/plain": [
       "12"
      ]
     },
     "execution_count": 39,
     "metadata": {},
     "output_type": "execute_result"
    }
   ],
   "source": [
    "class MinStack:\n",
    "\n",
    "    def __init__(self):\n",
    "        self.st=[] #stack\n",
    "        self.min=None #min element\n",
    "\n",
    "    def push(self, val: int) -> None:\n",
    "        if len(self.st)==0:\n",
    "            self.st.append(val)\n",
    "            self.min=val\n",
    "        else:\n",
    "            if val>=self.min:\n",
    "                self.st.append(val)\n",
    "            else:\n",
    "                self.st.append(self.min-val)\n",
    "                self.min=val\n",
    "                \n",
    "    def pop(self) -> None:\n",
    "        x=self.st.pop()\n",
    "        if x<self.min:\n",
    "            self.min=x+self.min\n",
    "    \n",
    "    def top(self) -> int:\n",
    "        x=self.st[-1]\n",
    "        if x>=self.min:\n",
    "            return x\n",
    "        return self.min\n",
    "\n",
    "    def getMin(self) -> int:\n",
    "        return self.min\n",
    "        \n",
    "        \n",
    "stack = MinStack()\n",
    "\n",
    "# stack.push(0)\n",
    "stack.push(12)\n",
    "# stack.push(1)\n",
    "stack.push(19)\n",
    "\n",
    "stack.pop()\n",
    "# stack.pop()\n",
    "# stack.pop()\n",
    "# stack.pop()\n",
    "\n",
    "# stack.top()\n",
    "\n",
    "stack.getMin()"
   ]
  },
  {
   "cell_type": "code",
   "execution_count": null,
   "id": "15a1cc82",
   "metadata": {},
   "outputs": [],
   "source": []
  },
  {
   "cell_type": "code",
   "execution_count": null,
   "id": "60289e0f",
   "metadata": {},
   "outputs": [],
   "source": []
  }
 ],
 "metadata": {
  "kernelspec": {
   "display_name": "Python 3 (ipykernel)",
   "language": "python",
   "name": "python3"
  },
  "language_info": {
   "codemirror_mode": {
    "name": "ipython",
    "version": 3
   },
   "file_extension": ".py",
   "mimetype": "text/x-python",
   "name": "python",
   "nbconvert_exporter": "python",
   "pygments_lexer": "ipython3",
   "version": "3.10.12"
  }
 },
 "nbformat": 4,
 "nbformat_minor": 5
}
