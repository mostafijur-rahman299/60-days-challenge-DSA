{
 "cells": [
  {
   "cell_type": "code",
   "execution_count": 31,
   "id": "6a53b91c",
   "metadata": {},
   "outputs": [
    {
     "name": "stdout",
     "output_type": "stream",
     "text": [
      "2\n",
      "2\n",
      "2\n"
     ]
    },
    {
     "data": {
      "text/plain": [
       "True"
      ]
     },
     "execution_count": 31,
     "metadata": {},
     "output_type": "execute_result"
    }
   ],
   "source": [
    "class TreeNode:\n",
    "    def __init__(self, val, left=None, right=None):\n",
    "        self.val = val\n",
    "        self.left = left\n",
    "        self.right = right\n",
    "        \n",
    "def build_tree_level_order(array):\n",
    "    if not array: return None\n",
    "    \n",
    "    root = TreeNode(array[0])\n",
    "    queue = [root]\n",
    "    index = 1\n",
    "    \n",
    "    while index < len(array):\n",
    "        node = queue.pop(0)\n",
    "        \n",
    "        if array[index] is not None:\n",
    "            left_node = TreeNode(array[index])\n",
    "            node.left = left_node\n",
    "            queue.append(left_node)\n",
    "        index += 1\n",
    "        \n",
    "        if array[index] is not None:\n",
    "            right_node = TreeNode(array[index])\n",
    "            node.right = right_node\n",
    "            queue.append(right_node)\n",
    "        index += 1\n",
    "        \n",
    "    return root\n",
    "\n",
    "def check_BST(root, minimum, maximum):\n",
    "    if not root: return True\n",
    "    \n",
    "    if root.val < minimum or root.val > maximum: return False\n",
    "    \n",
    "    return check_BST(root.left, minimum, root.val) and check_BST(root.right, root.val, maximum)\n",
    "\n",
    "\n",
    "def print_node(root):\n",
    "    if not root: return root\n",
    "    \n",
    "    print(root.val)\n",
    "    print_node(root.left)\n",
    "    print_node(root.right)\n",
    "\n",
    "arr = [2,2,2]\n",
    "root = build_tree_level_order(arr)\n",
    "print_node(root)\n",
    "\n",
    "check_BST(root, float(\"-inf\"), float(\"inf\"))"
   ]
  },
  {
   "cell_type": "code",
   "execution_count": null,
   "id": "22514556",
   "metadata": {},
   "outputs": [],
   "source": []
  }
 ],
 "metadata": {
  "kernelspec": {
   "display_name": "Python 3 (ipykernel)",
   "language": "python",
   "name": "python3"
  },
  "language_info": {
   "codemirror_mode": {
    "name": "ipython",
    "version": 3
   },
   "file_extension": ".py",
   "mimetype": "text/x-python",
   "name": "python",
   "nbconvert_exporter": "python",
   "pygments_lexer": "ipython3",
   "version": "3.10.12"
  }
 },
 "nbformat": 4,
 "nbformat_minor": 5
}
