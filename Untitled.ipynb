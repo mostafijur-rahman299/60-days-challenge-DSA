{
 "cells": [
  {
   "cell_type": "code",
   "execution_count": 1,
   "id": "34e5fd1e",
   "metadata": {},
   "outputs": [
    {
     "data": {
      "text/plain": [
       "''"
      ]
     },
     "execution_count": 1,
     "metadata": {},
     "output_type": "execute_result"
    }
   ],
   "source": [
    "class TimeMap:\n",
    "\n",
    "    def __init__(self):\n",
    "        self.storage = {}\n",
    "\n",
    "    def set(self, key: str, value: str, timestamp: int) -> None:\n",
    "        if key not in self.storage.keys():\n",
    "            self.storage[key] = {\n",
    "                timestamp: value\n",
    "            }\n",
    "            return None\n",
    "        \n",
    "        self.storage[key][timestamp] = value\n",
    "        \n",
    "    def get(self, key: str, timestamp: int) -> str:\n",
    "        if key not in self.storage.keys():\n",
    "            return \"\"\n",
    "        \n",
    "        if timestamp in self.storage[key].keys():\n",
    "            return self.storage[key][timestamp]\n",
    "        \n",
    "        curr_timestamp = timestamp-1\n",
    "        while curr_timestamp:\n",
    "            if timestamp in self.storage[key].keys():\n",
    "                return self.storage[key][timestamp]\n",
    "            curr_timestamp -= 1\n",
    "            \n",
    "        return \"\"\n",
    "        \n",
    "        \n",
    "        \n",
    "timemap = TimeMap()\n",
    "timemap.set(\"foo\", \"bar\", 1)\n",
    "timemap.set(\"foo\", \"bar2\", 3)\n",
    "timemap.get(\"key\", 1)\n"
   ]
  },
  {
   "cell_type": "code",
   "execution_count": null,
   "id": "a54e8895",
   "metadata": {},
   "outputs": [],
   "source": []
  }
 ],
 "metadata": {
  "kernelspec": {
   "display_name": "Python 3 (ipykernel)",
   "language": "python",
   "name": "python3"
  },
  "language_info": {
   "codemirror_mode": {
    "name": "ipython",
    "version": 3
   },
   "file_extension": ".py",
   "mimetype": "text/x-python",
   "name": "python",
   "nbconvert_exporter": "python",
   "pygments_lexer": "ipython3",
   "version": "3.10.12"
  }
 },
 "nbformat": 4,
 "nbformat_minor": 5
}
