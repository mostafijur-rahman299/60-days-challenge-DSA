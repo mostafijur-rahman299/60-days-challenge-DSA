{
 "cells": [
  {
   "cell_type": "code",
   "execution_count": 12,
   "id": "2dac1c34",
   "metadata": {},
   "outputs": [
    {
     "name": "stdout",
     "output_type": "stream",
     "text": [
      "6 2 8 0 4 7 9 3 5 "
     ]
    }
   ],
   "source": [
    "class TreeNode:\n",
    "    def __init__(self, val, left=None, right=None):\n",
    "        self.val = val\n",
    "        self.left = left\n",
    "        self.right = right\n",
    "        \n",
    "\n",
    "def build_level_order(arr):\n",
    "    if not arr: return\n",
    "    \n",
    "    queue = []\n",
    "    node = TreeNode(arr[0])\n",
    "    queue.append(node)\n",
    "    index = 1\n",
    "    \n",
    "    while index < len(arr):\n",
    "        current_node = queue.pop(0)\n",
    "        \n",
    "        if arr[index] is not None:\n",
    "            left_node = current_node.left = TreeNode(arr[index])\n",
    "            queue.append(left_node)\n",
    "        index += 1\n",
    "        \n",
    "        if arr[index] is not None:\n",
    "            right_node = current_node.right = TreeNode(arr[index])\n",
    "            queue.append(right_node)\n",
    "        index += 1\n",
    "    return node\n",
    "        \n",
    "\n",
    "def print_level_order(root):\n",
    "    if not root: return\n",
    "    \n",
    "    queue = [root]\n",
    "    \n",
    "    while queue:\n",
    "        root = queue.pop(0)\n",
    "        if root:\n",
    "            print(root.val, end=' ')\n",
    "            queue.append(root.left)\n",
    "            queue.append(root.right)\n",
    "        \n",
    "            \n",
    "            \n",
    "        \n",
    "arr = [6,2,8,0,4,7,9,None,None,3,5]\n",
    "tree = build_level_order(arr)\n",
    "\n",
    "print_level_order(tree)\n"
   ]
  },
  {
   "cell_type": "code",
   "execution_count": null,
   "id": "a509791b",
   "metadata": {},
   "outputs": [],
   "source": []
  }
 ],
 "metadata": {
  "kernelspec": {
   "display_name": "Python 3 (ipykernel)",
   "language": "python",
   "name": "python3"
  },
  "language_info": {
   "codemirror_mode": {
    "name": "ipython",
    "version": 3
   },
   "file_extension": ".py",
   "mimetype": "text/x-python",
   "name": "python",
   "nbconvert_exporter": "python",
   "pygments_lexer": "ipython3",
   "version": "3.10.12"
  }
 },
 "nbformat": 4,
 "nbformat_minor": 5
}
