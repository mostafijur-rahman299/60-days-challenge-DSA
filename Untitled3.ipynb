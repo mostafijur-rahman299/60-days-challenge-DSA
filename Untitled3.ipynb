{
 "cells": [
  {
   "cell_type": "code",
   "execution_count": 1,
   "id": "f818377f",
   "metadata": {},
   "outputs": [
    {
     "data": {
      "text/plain": [
       "[0, 3]"
      ]
     },
     "execution_count": 1,
     "metadata": {},
     "output_type": "execute_result"
    }
   ],
   "source": [
    "def two_sum(nums, target):\n",
    "    numsIndex = [(num, i) for i, num in enumerate(nums)]\n",
    "    numsIndex.sort()\n",
    "\n",
    "    left, right = 0, len(nums) - 1\n",
    "\n",
    "    while left < right:\n",
    "        num_sum = numsIndex[left][0] + numsIndex[right][0]\n",
    "        \n",
    "        if num_sum == target:\n",
    "            return [numsIndex[left][1], numsIndex[right][1]]\n",
    "        elif num_sum < target:\n",
    "            left += 1\n",
    "        else:\n",
    "            right -= 1\n",
    "    return []\n",
    "\n",
    "two_sum([2,7,11,15], 17)"
   ]
  },
  {
   "cell_type": "code",
   "execution_count": null,
   "id": "cb78ed5f",
   "metadata": {},
   "outputs": [],
   "source": []
  }
 ],
 "metadata": {
  "kernelspec": {
   "display_name": "Python 3 (ipykernel)",
   "language": "python",
   "name": "python3"
  },
  "language_info": {
   "codemirror_mode": {
    "name": "ipython",
    "version": 3
   },
   "file_extension": ".py",
   "mimetype": "text/x-python",
   "name": "python",
   "nbconvert_exporter": "python",
   "pygments_lexer": "ipython3",
   "version": "3.10.12"
  }
 },
 "nbformat": 4,
 "nbformat_minor": 5
}
