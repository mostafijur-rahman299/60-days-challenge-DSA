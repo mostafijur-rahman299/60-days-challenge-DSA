{
 "cells": [
  {
   "cell_type": "code",
   "execution_count": 14,
   "id": "aa38cb07",
   "metadata": {},
   "outputs": [
    {
     "data": {
      "text/plain": [
       "[[1, 2, 3], [1, 3, 2], [2, 1, 3], [2, 3, 1], [3, 1, 2], [3, 2, 1]]"
      ]
     },
     "execution_count": 14,
     "metadata": {},
     "output_type": "execute_result"
    }
   ],
   "source": [
    "\n",
    "def perms(nums, curr, answer):\n",
    "    if len(nums) == 0:\n",
    "        answer.append(curr.copy())\n",
    "        \n",
    "    for item in nums:\n",
    "        curr.append(item)\n",
    "        new_nums = [x for x in nums if x != item]\n",
    "        perms(new_nums, curr, answer) \n",
    "        curr.pop()\n",
    "    return answer\n",
    "        \n",
    "perms([1,2,3], [], [])"
   ]
  },
  {
   "cell_type": "code",
   "execution_count": null,
   "id": "27c0e860",
   "metadata": {},
   "outputs": [],
   "source": []
  }
 ],
 "metadata": {
  "kernelspec": {
   "display_name": "Python 3 (ipykernel)",
   "language": "python",
   "name": "python3"
  },
  "language_info": {
   "codemirror_mode": {
    "name": "ipython",
    "version": 3
   },
   "file_extension": ".py",
   "mimetype": "text/x-python",
   "name": "python",
   "nbconvert_exporter": "python",
   "pygments_lexer": "ipython3",
   "version": "3.10.12"
  }
 },
 "nbformat": 4,
 "nbformat_minor": 5
}
