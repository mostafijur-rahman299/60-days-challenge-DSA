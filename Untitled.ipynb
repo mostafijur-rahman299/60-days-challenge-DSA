{
 "cells": [
  {
   "cell_type": "code",
   "execution_count": 10,
   "id": "6676a9f0",
   "metadata": {},
   "outputs": [
    {
     "name": "stdout",
     "output_type": "stream",
     "text": [
      "1 15 "
     ]
    },
    {
     "data": {
      "text/plain": [
       "2"
      ]
     },
     "execution_count": 10,
     "metadata": {},
     "output_type": "execute_result"
    }
   ],
   "source": [
    "class Node:\n",
    "    def __init__(self, val, left=None, right=None):\n",
    "        self.val = val\n",
    "        self.left = left\n",
    "        self.right = right\n",
    "        \n",
    "\n",
    "def build_tree_with_level_order(array):\n",
    "    queue = []\n",
    "    root = Node(array[0])\n",
    "    queue.append(root)\n",
    "    \n",
    "    index = 1\n",
    "    \n",
    "    while queue and index < len(array):\n",
    "        node = queue.pop(0)\n",
    "        if array[index]:\n",
    "            node.left = Node(array[index])\n",
    "            queue.append(node.left)\n",
    "        index += 1\n",
    "        \n",
    "        if array[index]:\n",
    "            node.right = Node(array[index])\n",
    "            queue.append(node.right)\n",
    "        index += 1\n",
    "    return root\n",
    "        \n",
    "def traverse(root):\n",
    "    queue = []\n",
    "    queue.append(root)\n",
    "    \n",
    "    while queue:\n",
    "        node = queue.pop(0)\n",
    "        print(node.val, end=\" \")\n",
    "        \n",
    "        if node.left:\n",
    "            queue.append(node.left)\n",
    "        if node.right:\n",
    "            queue.append(node.right)\n",
    "            \n",
    "\n",
    "def height(root):\n",
    "    if not root: return 0\n",
    "    return max(height(root.left), height(root.right)) + 1\n",
    "            \n",
    "        \n",
    "array = [1, None,15]\n",
    "root = build_tree_with_level_order(array)\n",
    "traverse(root)\n",
    "height(root)\n"
   ]
  },
  {
   "cell_type": "code",
   "execution_count": null,
   "id": "fef61a90",
   "metadata": {},
   "outputs": [],
   "source": []
  }
 ],
 "metadata": {
  "kernelspec": {
   "display_name": "Python 3 (ipykernel)",
   "language": "python",
   "name": "python3"
  },
  "language_info": {
   "codemirror_mode": {
    "name": "ipython",
    "version": 3
   },
   "file_extension": ".py",
   "mimetype": "text/x-python",
   "name": "python",
   "nbconvert_exporter": "python",
   "pygments_lexer": "ipython3",
   "version": "3.10.12"
  }
 },
 "nbformat": 4,
 "nbformat_minor": 5
}
