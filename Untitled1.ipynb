{
 "cells": [
  {
   "cell_type": "code",
   "execution_count": 3,
   "id": "39490e9e",
   "metadata": {},
   "outputs": [
    {
     "data": {
      "text/plain": [
       "[[1, 2, 3], [1, 2], [1, 3], [1], [2, 3], [2], [3], []]"
      ]
     },
     "execution_count": 3,
     "metadata": {},
     "output_type": "execute_result"
    }
   ],
   "source": [
    "def subsets(nums):\n",
    "    res = []\n",
    "    \n",
    "    subset = []\n",
    "    \n",
    "    def dfs(i):\n",
    "        if i >= len(nums):\n",
    "            res.append(subset.copy())\n",
    "            return\n",
    "        \n",
    "        # decision to include nums[i]\n",
    "        subset.append(nums[i])\n",
    "        dfs(i + 1)\n",
    "        \n",
    "        # decision Not to include nums[i]\n",
    "        subset.pop()\n",
    "        dfs(i + 1)\n",
    "    dfs(0)\n",
    "    return res\n",
    "\n",
    "subsets([1,2,3])"
   ]
  },
  {
   "cell_type": "code",
   "execution_count": null,
   "id": "9c87f116",
   "metadata": {},
   "outputs": [],
   "source": []
  }
 ],
 "metadata": {
  "kernelspec": {
   "display_name": "Python 3 (ipykernel)",
   "language": "python",
   "name": "python3"
  },
  "language_info": {
   "codemirror_mode": {
    "name": "ipython",
    "version": 3
   },
   "file_extension": ".py",
   "mimetype": "text/x-python",
   "name": "python",
   "nbconvert_exporter": "python",
   "pygments_lexer": "ipython3",
   "version": "3.10.12"
  }
 },
 "nbformat": 4,
 "nbformat_minor": 5
}
